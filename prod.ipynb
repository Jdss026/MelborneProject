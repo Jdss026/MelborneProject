{
 "cells": [
  {
   "attachments": {},
   "cell_type": "markdown",
   "metadata": {},
   "source": [
    "# Produção"
   ]
  },
  {
   "attachments": {},
   "cell_type": "markdown",
   "metadata": {},
   "source": [
    "Importando bibliotecas"
   ]
  },
  {
   "cell_type": "code",
   "execution_count": 1,
   "metadata": {},
   "outputs": [],
   "source": [
    "import pickle\n",
    "from sklearn import preprocessing\n",
    "import pandas as pd\n",
    "import random"
   ]
  },
  {
   "attachments": {},
   "cell_type": "markdown",
   "metadata": {},
   "source": [
    "Criamos um DataFrame com valores aleatórios respeitando os extremos dos dados originais "
   ]
  },
  {
   "cell_type": "code",
   "execution_count": 11,
   "metadata": {},
   "outputs": [
    {
     "data": {
      "text/html": [
       "<div>\n",
       "<style scoped>\n",
       "    .dataframe tbody tr th:only-of-type {\n",
       "        vertical-align: middle;\n",
       "    }\n",
       "\n",
       "    .dataframe tbody tr th {\n",
       "        vertical-align: top;\n",
       "    }\n",
       "\n",
       "    .dataframe thead th {\n",
       "        text-align: right;\n",
       "    }\n",
       "</style>\n",
       "<table border=\"1\" class=\"dataframe\">\n",
       "  <thead>\n",
       "    <tr style=\"text-align: right;\">\n",
       "      <th></th>\n",
       "      <th>Rooms</th>\n",
       "      <th>Distance</th>\n",
       "      <th>Bathroom</th>\n",
       "      <th>Car</th>\n",
       "      <th>Landsize</th>\n",
       "      <th>Lattitude</th>\n",
       "      <th>Longtitude</th>\n",
       "      <th>Propertycount</th>\n",
       "      <th>Month</th>\n",
       "    </tr>\n",
       "  </thead>\n",
       "  <tbody>\n",
       "    <tr>\n",
       "      <th>0</th>\n",
       "      <td>4</td>\n",
       "      <td>14.639399</td>\n",
       "      <td>10</td>\n",
       "      <td>8</td>\n",
       "      <td>349079.604891</td>\n",
       "      <td>-37.880215</td>\n",
       "      <td>144.549043</td>\n",
       "      <td>17347</td>\n",
       "      <td>11</td>\n",
       "    </tr>\n",
       "    <tr>\n",
       "      <th>1</th>\n",
       "      <td>7</td>\n",
       "      <td>2.274412</td>\n",
       "      <td>5</td>\n",
       "      <td>0</td>\n",
       "      <td>11548.745591</td>\n",
       "      <td>-38.043264</td>\n",
       "      <td>145.419483</td>\n",
       "      <td>13626</td>\n",
       "      <td>1</td>\n",
       "    </tr>\n",
       "    <tr>\n",
       "      <th>2</th>\n",
       "      <td>2</td>\n",
       "      <td>1.805827</td>\n",
       "      <td>2</td>\n",
       "      <td>5</td>\n",
       "      <td>322528.141540</td>\n",
       "      <td>-37.487070</td>\n",
       "      <td>145.451061</td>\n",
       "      <td>2805</td>\n",
       "      <td>10</td>\n",
       "    </tr>\n",
       "    <tr>\n",
       "      <th>3</th>\n",
       "      <td>1</td>\n",
       "      <td>35.632123</td>\n",
       "      <td>10</td>\n",
       "      <td>1</td>\n",
       "      <td>93780.518494</td>\n",
       "      <td>-37.814090</td>\n",
       "      <td>145.187732</td>\n",
       "      <td>15399</td>\n",
       "      <td>11</td>\n",
       "    </tr>\n",
       "    <tr>\n",
       "      <th>4</th>\n",
       "      <td>1</td>\n",
       "      <td>25.871361</td>\n",
       "      <td>6</td>\n",
       "      <td>5</td>\n",
       "      <td>168943.616576</td>\n",
       "      <td>-37.791598</td>\n",
       "      <td>144.879454</td>\n",
       "      <td>17070</td>\n",
       "      <td>12</td>\n",
       "    </tr>\n",
       "    <tr>\n",
       "      <th>...</th>\n",
       "      <td>...</td>\n",
       "      <td>...</td>\n",
       "      <td>...</td>\n",
       "      <td>...</td>\n",
       "      <td>...</td>\n",
       "      <td>...</td>\n",
       "      <td>...</td>\n",
       "      <td>...</td>\n",
       "      <td>...</td>\n",
       "    </tr>\n",
       "    <tr>\n",
       "      <th>95</th>\n",
       "      <td>4</td>\n",
       "      <td>36.352212</td>\n",
       "      <td>8</td>\n",
       "      <td>3</td>\n",
       "      <td>48125.346561</td>\n",
       "      <td>-37.875050</td>\n",
       "      <td>145.115418</td>\n",
       "      <td>16340</td>\n",
       "      <td>12</td>\n",
       "    </tr>\n",
       "    <tr>\n",
       "      <th>96</th>\n",
       "      <td>1</td>\n",
       "      <td>37.212730</td>\n",
       "      <td>6</td>\n",
       "      <td>9</td>\n",
       "      <td>34717.492890</td>\n",
       "      <td>-38.145238</td>\n",
       "      <td>144.528330</td>\n",
       "      <td>10170</td>\n",
       "      <td>5</td>\n",
       "    </tr>\n",
       "    <tr>\n",
       "      <th>97</th>\n",
       "      <td>6</td>\n",
       "      <td>24.294078</td>\n",
       "      <td>4</td>\n",
       "      <td>1</td>\n",
       "      <td>168677.728531</td>\n",
       "      <td>-37.483536</td>\n",
       "      <td>144.489201</td>\n",
       "      <td>21247</td>\n",
       "      <td>12</td>\n",
       "    </tr>\n",
       "    <tr>\n",
       "      <th>98</th>\n",
       "      <td>9</td>\n",
       "      <td>17.004725</td>\n",
       "      <td>9</td>\n",
       "      <td>4</td>\n",
       "      <td>160104.595139</td>\n",
       "      <td>-38.002491</td>\n",
       "      <td>144.956922</td>\n",
       "      <td>21078</td>\n",
       "      <td>3</td>\n",
       "    </tr>\n",
       "    <tr>\n",
       "      <th>99</th>\n",
       "      <td>5</td>\n",
       "      <td>48.096700</td>\n",
       "      <td>4</td>\n",
       "      <td>9</td>\n",
       "      <td>127294.152860</td>\n",
       "      <td>-38.015008</td>\n",
       "      <td>145.215977</td>\n",
       "      <td>9553</td>\n",
       "      <td>1</td>\n",
       "    </tr>\n",
       "  </tbody>\n",
       "</table>\n",
       "<p>100 rows × 9 columns</p>\n",
       "</div>"
      ],
      "text/plain": [
       "    Rooms   Distance  Bathroom  Car       Landsize  Lattitude  Longtitude  \\\n",
       "0       4  14.639399        10    8  349079.604891 -37.880215  144.549043   \n",
       "1       7   2.274412         5    0   11548.745591 -38.043264  145.419483   \n",
       "2       2   1.805827         2    5  322528.141540 -37.487070  145.451061   \n",
       "3       1  35.632123        10    1   93780.518494 -37.814090  145.187732   \n",
       "4       1  25.871361         6    5  168943.616576 -37.791598  144.879454   \n",
       "..    ...        ...       ...  ...            ...        ...         ...   \n",
       "95      4  36.352212         8    3   48125.346561 -37.875050  145.115418   \n",
       "96      1  37.212730         6    9   34717.492890 -38.145238  144.528330   \n",
       "97      6  24.294078         4    1  168677.728531 -37.483536  144.489201   \n",
       "98      9  17.004725         9    4  160104.595139 -38.002491  144.956922   \n",
       "99      5  48.096700         4    9  127294.152860 -38.015008  145.215977   \n",
       "\n",
       "    Propertycount  Month  \n",
       "0           17347     11  \n",
       "1           13626      1  \n",
       "2            2805     10  \n",
       "3           15399     11  \n",
       "4           17070     12  \n",
       "..            ...    ...  \n",
       "95          16340     12  \n",
       "96          10170      5  \n",
       "97          21247     12  \n",
       "98          21078      3  \n",
       "99           9553      1  \n",
       "\n",
       "[100 rows x 9 columns]"
      ]
     },
     "execution_count": 11,
     "metadata": {},
     "output_type": "execute_result"
    }
   ],
   "source": [
    "data = {'Rooms': [random.randint(1,10) for _ in range(100)],\n",
    "        'Distance': [random.uniform(0,48.1) for _ in range(100)] ,\n",
    "        'Bathroom': [random.randint(1,10) for _ in range(100)],\n",
    "        'Car': [random.randint(0,10) for _ in range(100)],\n",
    "        'Landsize': [random.uniform(0,433014) for _ in range(100)],\n",
    "        'Lattitude': [random.uniform(-38.182550,-37.408530) for _ in range(100)],\n",
    "        'Longtitude': [random.uniform(144.431810,145.526350) for _ in range(100)],\n",
    "        'Propertycount': [random.randint(249,21650) for _ in range(100)], \n",
    "        'Month': [random.randint(1,12) for _ in range(100)]}\n",
    "\n",
    "#TODO: substituir os valores manuais por variaveis que dependem da base importada\n",
    "\n",
    "df = pd.DataFrame.from_dict(data)\n",
    "df"
   ]
  },
  {
   "attachments": {},
   "cell_type": "markdown",
   "metadata": {},
   "source": [
    "Retomamos o scaler no qual o modelo foi treinado no formato pickled e tratamos o novo dataset gerado com ele"
   ]
  },
  {
   "cell_type": "code",
   "execution_count": 14,
   "metadata": {},
   "outputs": [],
   "source": [
    "scaler = pickle.load(open('./model/std_scalar.pkl','rb'))"
   ]
  },
  {
   "cell_type": "code",
   "execution_count": 15,
   "metadata": {},
   "outputs": [
    {
     "data": {
      "text/plain": [
       "{'Rooms': [2.94, 0.96],\n",
       " 'Price': [1075684.08, 639310.72],\n",
       " 'Distance': [10.14, 5.87],\n",
       " 'Bathroom': [1.53, 0.69],\n",
       " 'Car': [1.61, 0.96],\n",
       " 'Landsize': [558.42, 3990.67],\n",
       " 'Lattitude': [-37.81, 0.08],\n",
       " 'Longtitude': [145.0, 0.1],\n",
       " 'Propertycount': [7454.42, 4378.58],\n",
       " 'Month': [6.7, 2.76]}"
      ]
     },
     "execution_count": 15,
     "metadata": {},
     "output_type": "execute_result"
    }
   ],
   "source": [
    "scaler"
   ]
  },
  {
   "cell_type": "code",
   "execution_count": 16,
   "metadata": {},
   "outputs": [
    {
     "data": {
      "text/html": [
       "<div>\n",
       "<style scoped>\n",
       "    .dataframe tbody tr th:only-of-type {\n",
       "        vertical-align: middle;\n",
       "    }\n",
       "\n",
       "    .dataframe tbody tr th {\n",
       "        vertical-align: top;\n",
       "    }\n",
       "\n",
       "    .dataframe thead th {\n",
       "        text-align: right;\n",
       "    }\n",
       "</style>\n",
       "<table border=\"1\" class=\"dataframe\">\n",
       "  <thead>\n",
       "    <tr style=\"text-align: right;\">\n",
       "      <th></th>\n",
       "      <th>Rooms</th>\n",
       "      <th>Distance</th>\n",
       "      <th>Bathroom</th>\n",
       "      <th>Car</th>\n",
       "      <th>Landsize</th>\n",
       "      <th>Lattitude</th>\n",
       "      <th>Longtitude</th>\n",
       "      <th>Propertycount</th>\n",
       "      <th>Month</th>\n",
       "    </tr>\n",
       "  </thead>\n",
       "  <tbody>\n",
       "    <tr>\n",
       "      <th>0</th>\n",
       "      <td>4</td>\n",
       "      <td>14.639399</td>\n",
       "      <td>10</td>\n",
       "      <td>8</td>\n",
       "      <td>349079.604891</td>\n",
       "      <td>-37.880215</td>\n",
       "      <td>144.549043</td>\n",
       "      <td>17347</td>\n",
       "      <td>11</td>\n",
       "    </tr>\n",
       "  </tbody>\n",
       "</table>\n",
       "</div>"
      ],
      "text/plain": [
       "   Rooms   Distance  Bathroom  Car       Landsize  Lattitude  Longtitude  \\\n",
       "0      4  14.639399        10    8  349079.604891 -37.880215  144.549043   \n",
       "\n",
       "   Propertycount  Month  \n",
       "0          17347     11  "
      ]
     },
     "execution_count": 16,
     "metadata": {},
     "output_type": "execute_result"
    }
   ],
   "source": [
    "df_prod = df.iloc[0:1]\n",
    "df_prod"
   ]
  },
  {
   "cell_type": "code",
   "execution_count": 18,
   "metadata": {},
   "outputs": [
    {
     "data": {
      "text/html": [
       "<div>\n",
       "<style scoped>\n",
       "    .dataframe tbody tr th:only-of-type {\n",
       "        vertical-align: middle;\n",
       "    }\n",
       "\n",
       "    .dataframe tbody tr th {\n",
       "        vertical-align: top;\n",
       "    }\n",
       "\n",
       "    .dataframe thead th {\n",
       "        text-align: right;\n",
       "    }\n",
       "</style>\n",
       "<table border=\"1\" class=\"dataframe\">\n",
       "  <thead>\n",
       "    <tr style=\"text-align: right;\">\n",
       "      <th></th>\n",
       "      <th>Rooms</th>\n",
       "      <th>Distance</th>\n",
       "      <th>Bathroom</th>\n",
       "      <th>Car</th>\n",
       "      <th>Landsize</th>\n",
       "      <th>Lattitude</th>\n",
       "      <th>Longtitude</th>\n",
       "      <th>Propertycount</th>\n",
       "      <th>Month</th>\n",
       "    </tr>\n",
       "  </thead>\n",
       "  <tbody>\n",
       "    <tr>\n",
       "      <th>0</th>\n",
       "      <td>1.104167</td>\n",
       "      <td>0.766507</td>\n",
       "      <td>12.275362</td>\n",
       "      <td>6.65625</td>\n",
       "      <td>87.334003</td>\n",
       "      <td>-0.877682</td>\n",
       "      <td>-4.509574</td>\n",
       "      <td>2.259312</td>\n",
       "      <td>1.557971</td>\n",
       "    </tr>\n",
       "  </tbody>\n",
       "</table>\n",
       "</div>"
      ],
      "text/plain": [
       "      Rooms  Distance   Bathroom      Car   Landsize  Lattitude  Longtitude  \\\n",
       "0  1.104167  0.766507  12.275362  6.65625  87.334003  -0.877682   -4.509574   \n",
       "\n",
       "   Propertycount     Month  \n",
       "0       2.259312  1.557971  "
      ]
     },
     "execution_count": 18,
     "metadata": {},
     "output_type": "execute_result"
    }
   ],
   "source": [
    "df_scalar = pd.DataFrame()\n",
    "\n",
    "for cols in df_prod.columns:\n",
    "    z_prod = (df_prod[cols]-scaler[cols][0])/scaler[cols][1]\n",
    "    df_scalar[cols] = z_prod\n",
    "\n",
    "df_scalar"
   ]
  },
  {
   "cell_type": "code",
   "execution_count": 26,
   "metadata": {},
   "outputs": [
    {
     "name": "stderr",
     "output_type": "stream",
     "text": [
      "/home/jonas/anaconda3/lib/python3.9/site-packages/sklearn/base.py:318: UserWarning: Trying to unpickle estimator DecisionTreeRegressor from version 1.0.2 when using version 1.2.2. This might lead to breaking code or invalid results. Use at your own risk. For more info please refer to:\n",
      "https://scikit-learn.org/stable/model_persistence.html#security-maintainability-limitations\n",
      "  warnings.warn(\n",
      "/home/jonas/anaconda3/lib/python3.9/site-packages/sklearn/base.py:318: UserWarning: Trying to unpickle estimator RandomForestRegressor from version 1.0.2 when using version 1.2.2. This might lead to breaking code or invalid results. Use at your own risk. For more info please refer to:\n",
      "https://scikit-learn.org/stable/model_persistence.html#security-maintainability-limitations\n",
      "  warnings.warn(\n"
     ]
    },
    {
     "data": {
      "text/plain": [
       "931220.0"
      ]
     },
     "execution_count": 26,
     "metadata": {},
     "output_type": "execute_result"
    }
   ],
   "source": [
    "pickled_model = pickle.load(open('./model/model.pkl', 'rb'))\n",
    "\n",
    "pred = pickled_model.predict(df_scalar)\n",
    "pred[0]"
   ]
  }
 ],
 "metadata": {
  "kernelspec": {
   "display_name": "base",
   "language": "python",
   "name": "python3"
  },
  "language_info": {
   "codemirror_mode": {
    "name": "ipython",
    "version": 3
   },
   "file_extension": ".py",
   "mimetype": "text/x-python",
   "name": "python",
   "nbconvert_exporter": "python",
   "pygments_lexer": "ipython3",
   "version": "3.9.16"
  },
  "orig_nbformat": 4
 },
 "nbformat": 4,
 "nbformat_minor": 2
}
