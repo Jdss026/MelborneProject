{
 "cells": [
  {
   "attachments": {},
   "cell_type": "markdown",
   "metadata": {},
   "source": [
    "# Produção"
   ]
  },
  {
   "attachments": {},
   "cell_type": "markdown",
   "metadata": {},
   "source": [
    "Importando bibliotecas"
   ]
  },
  {
   "cell_type": "code",
   "execution_count": 6,
   "metadata": {},
   "outputs": [],
   "source": [
    "import pickle\n",
    "from sklearn import preprocessing\n",
    "import pandas as pd\n",
    "import random"
   ]
  },
  {
   "attachments": {},
   "cell_type": "markdown",
   "metadata": {},
   "source": [
    "Criamos um DataFrame com valores aleatórios respeitando os extremos dos dados originais "
   ]
  },
  {
   "cell_type": "code",
   "execution_count": 8,
   "metadata": {},
   "outputs": [
    {
     "data": {
      "text/html": [
       "<div>\n",
       "<style scoped>\n",
       "    .dataframe tbody tr th:only-of-type {\n",
       "        vertical-align: middle;\n",
       "    }\n",
       "\n",
       "    .dataframe tbody tr th {\n",
       "        vertical-align: top;\n",
       "    }\n",
       "\n",
       "    .dataframe thead th {\n",
       "        text-align: right;\n",
       "    }\n",
       "</style>\n",
       "<table border=\"1\" class=\"dataframe\">\n",
       "  <thead>\n",
       "    <tr style=\"text-align: right;\">\n",
       "      <th></th>\n",
       "      <th>Rooms</th>\n",
       "      <th>Distance</th>\n",
       "      <th>Bathroom</th>\n",
       "      <th>Car</th>\n",
       "      <th>Landsize</th>\n",
       "      <th>Lattitude</th>\n",
       "      <th>Longtitude</th>\n",
       "      <th>Propertycount</th>\n",
       "      <th>Month</th>\n",
       "    </tr>\n",
       "  </thead>\n",
       "  <tbody>\n",
       "    <tr>\n",
       "      <th>0</th>\n",
       "      <td>3</td>\n",
       "      <td>9.528234</td>\n",
       "      <td>1</td>\n",
       "      <td>3</td>\n",
       "      <td>176066.567416</td>\n",
       "      <td>-37.710553</td>\n",
       "      <td>144.926368</td>\n",
       "      <td>9318</td>\n",
       "      <td>11</td>\n",
       "    </tr>\n",
       "    <tr>\n",
       "      <th>1</th>\n",
       "      <td>3</td>\n",
       "      <td>8.530312</td>\n",
       "      <td>5</td>\n",
       "      <td>4</td>\n",
       "      <td>6107.220915</td>\n",
       "      <td>-37.580799</td>\n",
       "      <td>145.023795</td>\n",
       "      <td>15942</td>\n",
       "      <td>3</td>\n",
       "    </tr>\n",
       "    <tr>\n",
       "      <th>2</th>\n",
       "      <td>5</td>\n",
       "      <td>37.517036</td>\n",
       "      <td>3</td>\n",
       "      <td>4</td>\n",
       "      <td>370074.046098</td>\n",
       "      <td>-37.924484</td>\n",
       "      <td>145.250002</td>\n",
       "      <td>19189</td>\n",
       "      <td>7</td>\n",
       "    </tr>\n",
       "    <tr>\n",
       "      <th>3</th>\n",
       "      <td>2</td>\n",
       "      <td>3.144860</td>\n",
       "      <td>9</td>\n",
       "      <td>7</td>\n",
       "      <td>404594.583677</td>\n",
       "      <td>-37.485252</td>\n",
       "      <td>145.428807</td>\n",
       "      <td>17865</td>\n",
       "      <td>3</td>\n",
       "    </tr>\n",
       "    <tr>\n",
       "      <th>4</th>\n",
       "      <td>2</td>\n",
       "      <td>21.422732</td>\n",
       "      <td>3</td>\n",
       "      <td>2</td>\n",
       "      <td>114117.277719</td>\n",
       "      <td>-38.125742</td>\n",
       "      <td>144.643123</td>\n",
       "      <td>18425</td>\n",
       "      <td>10</td>\n",
       "    </tr>\n",
       "    <tr>\n",
       "      <th>...</th>\n",
       "      <td>...</td>\n",
       "      <td>...</td>\n",
       "      <td>...</td>\n",
       "      <td>...</td>\n",
       "      <td>...</td>\n",
       "      <td>...</td>\n",
       "      <td>...</td>\n",
       "      <td>...</td>\n",
       "      <td>...</td>\n",
       "    </tr>\n",
       "    <tr>\n",
       "      <th>95</th>\n",
       "      <td>5</td>\n",
       "      <td>43.471269</td>\n",
       "      <td>1</td>\n",
       "      <td>10</td>\n",
       "      <td>10652.401460</td>\n",
       "      <td>-37.832238</td>\n",
       "      <td>144.769640</td>\n",
       "      <td>21637</td>\n",
       "      <td>10</td>\n",
       "    </tr>\n",
       "    <tr>\n",
       "      <th>96</th>\n",
       "      <td>5</td>\n",
       "      <td>43.480435</td>\n",
       "      <td>8</td>\n",
       "      <td>0</td>\n",
       "      <td>406846.284171</td>\n",
       "      <td>-37.768106</td>\n",
       "      <td>145.141080</td>\n",
       "      <td>3260</td>\n",
       "      <td>12</td>\n",
       "    </tr>\n",
       "    <tr>\n",
       "      <th>97</th>\n",
       "      <td>3</td>\n",
       "      <td>43.546202</td>\n",
       "      <td>5</td>\n",
       "      <td>7</td>\n",
       "      <td>334304.957886</td>\n",
       "      <td>-37.913798</td>\n",
       "      <td>145.356146</td>\n",
       "      <td>6807</td>\n",
       "      <td>5</td>\n",
       "    </tr>\n",
       "    <tr>\n",
       "      <th>98</th>\n",
       "      <td>8</td>\n",
       "      <td>23.100397</td>\n",
       "      <td>5</td>\n",
       "      <td>10</td>\n",
       "      <td>3264.766915</td>\n",
       "      <td>-37.927438</td>\n",
       "      <td>145.080796</td>\n",
       "      <td>15914</td>\n",
       "      <td>10</td>\n",
       "    </tr>\n",
       "    <tr>\n",
       "      <th>99</th>\n",
       "      <td>6</td>\n",
       "      <td>39.654855</td>\n",
       "      <td>1</td>\n",
       "      <td>1</td>\n",
       "      <td>195804.708536</td>\n",
       "      <td>-37.744468</td>\n",
       "      <td>145.162261</td>\n",
       "      <td>4425</td>\n",
       "      <td>5</td>\n",
       "    </tr>\n",
       "  </tbody>\n",
       "</table>\n",
       "<p>100 rows × 9 columns</p>\n",
       "</div>"
      ],
      "text/plain": [
       "    Rooms   Distance  Bathroom  Car       Landsize  Lattitude  Longtitude  \\\n",
       "0       3   9.528234         1    3  176066.567416 -37.710553  144.926368   \n",
       "1       3   8.530312         5    4    6107.220915 -37.580799  145.023795   \n",
       "2       5  37.517036         3    4  370074.046098 -37.924484  145.250002   \n",
       "3       2   3.144860         9    7  404594.583677 -37.485252  145.428807   \n",
       "4       2  21.422732         3    2  114117.277719 -38.125742  144.643123   \n",
       "..    ...        ...       ...  ...            ...        ...         ...   \n",
       "95      5  43.471269         1   10   10652.401460 -37.832238  144.769640   \n",
       "96      5  43.480435         8    0  406846.284171 -37.768106  145.141080   \n",
       "97      3  43.546202         5    7  334304.957886 -37.913798  145.356146   \n",
       "98      8  23.100397         5   10    3264.766915 -37.927438  145.080796   \n",
       "99      6  39.654855         1    1  195804.708536 -37.744468  145.162261   \n",
       "\n",
       "    Propertycount  Month  \n",
       "0            9318     11  \n",
       "1           15942      3  \n",
       "2           19189      7  \n",
       "3           17865      3  \n",
       "4           18425     10  \n",
       "..            ...    ...  \n",
       "95          21637     10  \n",
       "96           3260     12  \n",
       "97           6807      5  \n",
       "98          15914     10  \n",
       "99           4425      5  \n",
       "\n",
       "[100 rows x 9 columns]"
      ]
     },
     "execution_count": 8,
     "metadata": {},
     "output_type": "execute_result"
    }
   ],
   "source": [
    "data = {'Rooms': [random.randint(1,10) for _ in range(100)],\n",
    "        'Distance': [random.uniform(0,48.1) for _ in range(100)] ,\n",
    "        'Bathroom': [random.randint(1,10) for _ in range(100)],\n",
    "        'Car': [random.randint(0,10) for _ in range(100)],\n",
    "        'Landsize': [random.uniform(0,433014) for _ in range(100)],\n",
    "        'Lattitude': [random.uniform(-38.182550,-37.408530) for _ in range(100)],\n",
    "        'Longtitude': [random.uniform(144.431810,145.526350) for _ in range(100)],\n",
    "        'Propertycount': [random.randint(249,21650) for _ in range(100)], \n",
    "        'Month': [random.randint(1,12) for _ in range(100)]}\n",
    "\n",
    "#TODO: substituir os valores manuais por variaveis que dependem da base importada\n",
    "\n",
    "df = pd.DataFrame.from_dict(data)\n",
    "df"
   ]
  },
  {
   "attachments": {},
   "cell_type": "markdown",
   "metadata": {},
   "source": [
    "Retomamos o scaler no qual o modelo foi treinado no formato pickled e tratamos o novo dataset gerado com ele"
   ]
  },
  {
   "cell_type": "code",
   "execution_count": 10,
   "metadata": {},
   "outputs": [],
   "source": [
    "scaler = pickle.load(open('./model/std_scalar.pkl','rb'))"
   ]
  },
  {
   "cell_type": "code",
   "execution_count": 12,
   "metadata": {},
   "outputs": [
    {
     "data": {
      "text/plain": [
       "{'Rooms': [2.94, 0.96],\n",
       " 'Price': [1075684.08, 639310.72],\n",
       " 'Distance': [10.14, 5.87],\n",
       " 'Bathroom': [1.53, 0.69],\n",
       " 'Car': [1.61, 0.96],\n",
       " 'Landsize': [558.42, 3990.67],\n",
       " 'Lattitude': [-37.81, 0.08],\n",
       " 'Longtitude': [145.0, 0.1],\n",
       " 'Propertycount': [7454.42, 4378.58],\n",
       " 'Month': [6.7, 2.76]}"
      ]
     },
     "execution_count": 12,
     "metadata": {},
     "output_type": "execute_result"
    }
   ],
   "source": [
    "scaler"
   ]
  },
  {
   "cell_type": "code",
   "execution_count": 18,
   "metadata": {},
   "outputs": [
    {
     "data": {
      "text/html": [
       "<div>\n",
       "<style scoped>\n",
       "    .dataframe tbody tr th:only-of-type {\n",
       "        vertical-align: middle;\n",
       "    }\n",
       "\n",
       "    .dataframe tbody tr th {\n",
       "        vertical-align: top;\n",
       "    }\n",
       "\n",
       "    .dataframe thead th {\n",
       "        text-align: right;\n",
       "    }\n",
       "</style>\n",
       "<table border=\"1\" class=\"dataframe\">\n",
       "  <thead>\n",
       "    <tr style=\"text-align: right;\">\n",
       "      <th></th>\n",
       "      <th>Rooms</th>\n",
       "      <th>Distance</th>\n",
       "      <th>Bathroom</th>\n",
       "      <th>Car</th>\n",
       "      <th>Landsize</th>\n",
       "      <th>Lattitude</th>\n",
       "      <th>Longtitude</th>\n",
       "      <th>Propertycount</th>\n",
       "      <th>Month</th>\n",
       "    </tr>\n",
       "  </thead>\n",
       "  <tbody>\n",
       "    <tr>\n",
       "      <th>0</th>\n",
       "      <td>3</td>\n",
       "      <td>9.528234</td>\n",
       "      <td>1</td>\n",
       "      <td>3</td>\n",
       "      <td>176066.567416</td>\n",
       "      <td>-37.710553</td>\n",
       "      <td>144.926368</td>\n",
       "      <td>9318</td>\n",
       "      <td>11</td>\n",
       "    </tr>\n",
       "  </tbody>\n",
       "</table>\n",
       "</div>"
      ],
      "text/plain": [
       "   Rooms  Distance  Bathroom  Car       Landsize  Lattitude  Longtitude  \\\n",
       "0      3  9.528234         1    3  176066.567416 -37.710553  144.926368   \n",
       "\n",
       "   Propertycount  Month  \n",
       "0           9318     11  "
      ]
     },
     "execution_count": 18,
     "metadata": {},
     "output_type": "execute_result"
    }
   ],
   "source": [
    "df_prod = df.iloc[0:1]\n",
    "df_prod"
   ]
  },
  {
   "cell_type": "code",
   "execution_count": 22,
   "metadata": {},
   "outputs": [
    {
     "data": {
      "text/html": [
       "<div>\n",
       "<style scoped>\n",
       "    .dataframe tbody tr th:only-of-type {\n",
       "        vertical-align: middle;\n",
       "    }\n",
       "\n",
       "    .dataframe tbody tr th {\n",
       "        vertical-align: top;\n",
       "    }\n",
       "\n",
       "    .dataframe thead th {\n",
       "        text-align: right;\n",
       "    }\n",
       "</style>\n",
       "<table border=\"1\" class=\"dataframe\">\n",
       "  <thead>\n",
       "    <tr style=\"text-align: right;\">\n",
       "      <th></th>\n",
       "      <th>Rooms</th>\n",
       "      <th>Distance</th>\n",
       "      <th>Bathroom</th>\n",
       "      <th>Car</th>\n",
       "      <th>Landsize</th>\n",
       "      <th>Lattitude</th>\n",
       "      <th>Longtitude</th>\n",
       "      <th>Propertycount</th>\n",
       "      <th>Month</th>\n",
       "    </tr>\n",
       "  </thead>\n",
       "  <tbody>\n",
       "    <tr>\n",
       "      <th>0</th>\n",
       "      <td>0.0625</td>\n",
       "      <td>-0.104219</td>\n",
       "      <td>-0.768116</td>\n",
       "      <td>1.447917</td>\n",
       "      <td>43.979619</td>\n",
       "      <td>1.243091</td>\n",
       "      <td>-0.736316</td>\n",
       "      <td>0.425613</td>\n",
       "      <td>1.557971</td>\n",
       "    </tr>\n",
       "  </tbody>\n",
       "</table>\n",
       "</div>"
      ],
      "text/plain": [
       "    Rooms  Distance  Bathroom       Car   Landsize  Lattitude  Longtitude  \\\n",
       "0  0.0625 -0.104219 -0.768116  1.447917  43.979619   1.243091   -0.736316   \n",
       "\n",
       "   Propertycount     Month  \n",
       "0       0.425613  1.557971  "
      ]
     },
     "execution_count": 22,
     "metadata": {},
     "output_type": "execute_result"
    }
   ],
   "source": [
    "df_scalar = pd.DataFrame()\n",
    "\n",
    "for cols in df_prod.columns:\n",
    "    z_prod = (df_prod[cols]-scaler[cols][0])/scaler[cols][1]\n",
    "    df_scalar[cols] = z_prod\n",
    "\n",
    "df_scalar"
   ]
  },
  {
   "cell_type": "code",
   "execution_count": 26,
   "metadata": {},
   "outputs": [
    {
     "name": "stderr",
     "output_type": "stream",
     "text": [
      "/home/jonas/anaconda3/lib/python3.9/site-packages/sklearn/base.py:318: UserWarning: Trying to unpickle estimator DecisionTreeRegressor from version 1.0.2 when using version 1.2.2. This might lead to breaking code or invalid results. Use at your own risk. For more info please refer to:\n",
      "https://scikit-learn.org/stable/model_persistence.html#security-maintainability-limitations\n",
      "  warnings.warn(\n",
      "/home/jonas/anaconda3/lib/python3.9/site-packages/sklearn/base.py:318: UserWarning: Trying to unpickle estimator RandomForestRegressor from version 1.0.2 when using version 1.2.2. This might lead to breaking code or invalid results. Use at your own risk. For more info please refer to:\n",
      "https://scikit-learn.org/stable/model_persistence.html#security-maintainability-limitations\n",
      "  warnings.warn(\n"
     ]
    },
    {
     "data": {
      "text/plain": [
       "931220.0"
      ]
     },
     "execution_count": 26,
     "metadata": {},
     "output_type": "execute_result"
    }
   ],
   "source": [
    "pickled_model = pickle.load(open('./model/model.pkl', 'rb'))\n",
    "\n",
    "pred = pickled_model.predict(df_scalar)\n",
    "pred[0]"
   ]
  }
 ],
 "metadata": {
  "kernelspec": {
   "display_name": "base",
   "language": "python",
   "name": "python3"
  },
  "language_info": {
   "codemirror_mode": {
    "name": "ipython",
    "version": 3
   },
   "file_extension": ".py",
   "mimetype": "text/x-python",
   "name": "python",
   "nbconvert_exporter": "python",
   "pygments_lexer": "ipython3",
   "version": "3.9.16"
  },
  "orig_nbformat": 4
 },
 "nbformat": 4,
 "nbformat_minor": 2
}
