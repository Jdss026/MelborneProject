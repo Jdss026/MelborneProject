{
 "cells": [
  {
   "attachments": {},
   "cell_type": "markdown",
   "metadata": {},
   "source": [
    "# Modelo de Machine Learning\n",
    "\n",
    "Notebook que contém os modelos de Regressão"
   ]
  },
  {
   "attachments": {},
   "cell_type": "markdown",
   "metadata": {},
   "source": [
    "Importação das bibliotecas"
   ]
  },
  {
   "cell_type": "code",
   "execution_count": 15,
   "metadata": {},
   "outputs": [],
   "source": [
    "import pandas as pd\n",
    "from sklearn import preprocessing\n",
    "import seaborn as sns\n",
    "import matplotlib.pyplot as plt\n",
    "import pickle\n",
    "%matplotlib inline\n",
    "\n",
    "from sklearn.model_selection import train_test_split\n",
    "from sklearn.metrics import mean_squared_error, r2_score, mean_squared_log_error"
   ]
  },
  {
   "attachments": {},
   "cell_type": "markdown",
   "metadata": {},
   "source": [
    "Os pacotes importados são utilizados a seguir para a modelagem dos dados tratados no notebook de Análise (Deve ser executado primeiro). A partir das features (Rooms, Date, Distance, Car, ...) devemos prever um target (Price), portanto se tratando de um modelo de *Regressão*. Além disso, serão utilizados dois tipos de testes: R2 e MSE."
   ]
  },
  {
   "cell_type": "code",
   "execution_count": 16,
   "metadata": {},
   "outputs": [],
   "source": [
    "import warnings\n",
    "warnings.filterwarnings('ignore')"
   ]
  },
  {
   "attachments": {},
   "cell_type": "markdown",
   "metadata": {},
   "source": [
    "Remove warnings"
   ]
  },
  {
   "attachments": {},
   "cell_type": "markdown",
   "metadata": {},
   "source": [
    "# Carrega Base de dados Tratada"
   ]
  },
  {
   "cell_type": "code",
   "execution_count": 17,
   "metadata": {},
   "outputs": [
    {
     "name": "stdout",
     "output_type": "stream",
     "text": [
      "(13580, 10)\n"
     ]
    },
    {
     "data": {
      "text/html": [
       "<div>\n",
       "<style scoped>\n",
       "    .dataframe tbody tr th:only-of-type {\n",
       "        vertical-align: middle;\n",
       "    }\n",
       "\n",
       "    .dataframe tbody tr th {\n",
       "        vertical-align: top;\n",
       "    }\n",
       "\n",
       "    .dataframe thead th {\n",
       "        text-align: right;\n",
       "    }\n",
       "</style>\n",
       "<table border=\"1\" class=\"dataframe\">\n",
       "  <thead>\n",
       "    <tr style=\"text-align: right;\">\n",
       "      <th></th>\n",
       "      <th>Rooms</th>\n",
       "      <th>Price</th>\n",
       "      <th>Distance</th>\n",
       "      <th>Bathroom</th>\n",
       "      <th>Car</th>\n",
       "      <th>Landsize</th>\n",
       "      <th>Lattitude</th>\n",
       "      <th>Longtitude</th>\n",
       "      <th>Propertycount</th>\n",
       "      <th>Month</th>\n",
       "    </tr>\n",
       "  </thead>\n",
       "  <tbody>\n",
       "    <tr>\n",
       "      <th>count</th>\n",
       "      <td>13580.000000</td>\n",
       "      <td>1.358000e+04</td>\n",
       "      <td>13580.000000</td>\n",
       "      <td>13580.000000</td>\n",
       "      <td>13580.000000</td>\n",
       "      <td>13580.000000</td>\n",
       "      <td>13580.000000</td>\n",
       "      <td>13580.000000</td>\n",
       "      <td>13580.000000</td>\n",
       "      <td>13580.000000</td>\n",
       "    </tr>\n",
       "    <tr>\n",
       "      <th>mean</th>\n",
       "      <td>2.937997</td>\n",
       "      <td>1.075684e+06</td>\n",
       "      <td>10.137776</td>\n",
       "      <td>1.534242</td>\n",
       "      <td>1.611856</td>\n",
       "      <td>558.416127</td>\n",
       "      <td>-37.809203</td>\n",
       "      <td>144.995216</td>\n",
       "      <td>7454.417378</td>\n",
       "      <td>6.701988</td>\n",
       "    </tr>\n",
       "    <tr>\n",
       "      <th>std</th>\n",
       "      <td>0.955748</td>\n",
       "      <td>6.393107e+05</td>\n",
       "      <td>5.868725</td>\n",
       "      <td>0.691712</td>\n",
       "      <td>0.960793</td>\n",
       "      <td>3990.669241</td>\n",
       "      <td>0.079260</td>\n",
       "      <td>0.103916</td>\n",
       "      <td>4378.581772</td>\n",
       "      <td>2.758499</td>\n",
       "    </tr>\n",
       "    <tr>\n",
       "      <th>min</th>\n",
       "      <td>1.000000</td>\n",
       "      <td>8.500000e+04</td>\n",
       "      <td>0.000000</td>\n",
       "      <td>0.000000</td>\n",
       "      <td>0.000000</td>\n",
       "      <td>0.000000</td>\n",
       "      <td>-38.182550</td>\n",
       "      <td>144.431810</td>\n",
       "      <td>249.000000</td>\n",
       "      <td>1.000000</td>\n",
       "    </tr>\n",
       "    <tr>\n",
       "      <th>25%</th>\n",
       "      <td>2.000000</td>\n",
       "      <td>6.500000e+05</td>\n",
       "      <td>6.100000</td>\n",
       "      <td>1.000000</td>\n",
       "      <td>1.000000</td>\n",
       "      <td>177.000000</td>\n",
       "      <td>-37.856822</td>\n",
       "      <td>144.929600</td>\n",
       "      <td>4380.000000</td>\n",
       "      <td>5.000000</td>\n",
       "    </tr>\n",
       "    <tr>\n",
       "      <th>50%</th>\n",
       "      <td>3.000000</td>\n",
       "      <td>9.030000e+05</td>\n",
       "      <td>9.200000</td>\n",
       "      <td>1.000000</td>\n",
       "      <td>2.000000</td>\n",
       "      <td>440.000000</td>\n",
       "      <td>-37.802355</td>\n",
       "      <td>145.000100</td>\n",
       "      <td>6555.000000</td>\n",
       "      <td>7.000000</td>\n",
       "    </tr>\n",
       "    <tr>\n",
       "      <th>75%</th>\n",
       "      <td>3.000000</td>\n",
       "      <td>1.330000e+06</td>\n",
       "      <td>13.000000</td>\n",
       "      <td>2.000000</td>\n",
       "      <td>2.000000</td>\n",
       "      <td>651.000000</td>\n",
       "      <td>-37.756400</td>\n",
       "      <td>145.058305</td>\n",
       "      <td>10331.000000</td>\n",
       "      <td>9.000000</td>\n",
       "    </tr>\n",
       "    <tr>\n",
       "      <th>max</th>\n",
       "      <td>10.000000</td>\n",
       "      <td>9.000000e+06</td>\n",
       "      <td>48.100000</td>\n",
       "      <td>8.000000</td>\n",
       "      <td>10.000000</td>\n",
       "      <td>433014.000000</td>\n",
       "      <td>-37.408530</td>\n",
       "      <td>145.526350</td>\n",
       "      <td>21650.000000</td>\n",
       "      <td>12.000000</td>\n",
       "    </tr>\n",
       "  </tbody>\n",
       "</table>\n",
       "</div>"
      ],
      "text/plain": [
       "              Rooms         Price      Distance      Bathroom           Car  \\\n",
       "count  13580.000000  1.358000e+04  13580.000000  13580.000000  13580.000000   \n",
       "mean       2.937997  1.075684e+06     10.137776      1.534242      1.611856   \n",
       "std        0.955748  6.393107e+05      5.868725      0.691712      0.960793   \n",
       "min        1.000000  8.500000e+04      0.000000      0.000000      0.000000   \n",
       "25%        2.000000  6.500000e+05      6.100000      1.000000      1.000000   \n",
       "50%        3.000000  9.030000e+05      9.200000      1.000000      2.000000   \n",
       "75%        3.000000  1.330000e+06     13.000000      2.000000      2.000000   \n",
       "max       10.000000  9.000000e+06     48.100000      8.000000     10.000000   \n",
       "\n",
       "            Landsize     Lattitude    Longtitude  Propertycount         Month  \n",
       "count   13580.000000  13580.000000  13580.000000   13580.000000  13580.000000  \n",
       "mean      558.416127    -37.809203    144.995216    7454.417378      6.701988  \n",
       "std      3990.669241      0.079260      0.103916    4378.581772      2.758499  \n",
       "min         0.000000    -38.182550    144.431810     249.000000      1.000000  \n",
       "25%       177.000000    -37.856822    144.929600    4380.000000      5.000000  \n",
       "50%       440.000000    -37.802355    145.000100    6555.000000      7.000000  \n",
       "75%       651.000000    -37.756400    145.058305   10331.000000      9.000000  \n",
       "max    433014.000000    -37.408530    145.526350   21650.000000     12.000000  "
      ]
     },
     "execution_count": 17,
     "metadata": {},
     "output_type": "execute_result"
    }
   ],
   "source": [
    "base = pd.read_csv(\"../data/base_tratada.csv\", sep=\";\", usecols=None)\n",
    "print(base.shape)     \n",
    "base.head()\n",
    "base.describe()"
   ]
  },
  {
   "attachments": {},
   "cell_type": "markdown",
   "metadata": {},
   "source": [
    "A base carregada é a base tratada resultante da Limpeza realizada no notebook da EDA. para aplicar um modelo de regressão. iremos escolher um método de preprocessamento das features da base. \n",
    "\n",
    "\n",
    "Percebemos que cada feature conta com unidades, extremos e escalas distintas e o modelo é sensível a tais características da base. Devemos ter como comparar as features e isso significa padronizar sua distribuição. Faremos entrão o Preprocessamento ou Redimensionamento das features da base."
   ]
  },
  {
   "attachments": {},
   "cell_type": "markdown",
   "metadata": {},
   "source": [
    "## PreProcessamento da Base"
   ]
  },
  {
   "attachments": {},
   "cell_type": "markdown",
   "metadata": {},
   "source": [
    "Apresentamos duas maneiras de realizar o redimensionamento da base:\n",
    "\n",
    "- [`MinMaxScaler`](https://scikit-learn.org/stable/modules/generated/sklearn.preprocessing.MinMaxScaler.html): Redimensiona as features para a uma escala entre 0 e 1. Este tipo de distribuição é utilizada para redimensionar features onde o mínimo e o máximo exercem influência significativa na análise.\n",
    "\n",
    "\n",
    "- [`Stadartization`](https://scikit-learn.org/stable/modules/generated/sklearn.preprocessing.StandardScaler.html): Redimensiona os valores das features para eliminar a média (zerar) e converte as dimensões para a unidade de \"desvio-padrão da média\". Este redimensionamento deve ser utilizado quando a distribuição de valores na feature segue uma distribuição normal ou aproximadamente normal."
   ]
  },
  {
   "attachments": {},
   "cell_type": "markdown",
   "metadata": {},
   "source": [
    "### Min Max Scaler"
   ]
  },
  {
   "cell_type": "code",
   "execution_count": 18,
   "metadata": {},
   "outputs": [],
   "source": [
    "# cols = [col for col in base.columns if col != \"Price\"]\n",
    "# for col in cols:\n",
    "#     # find minimum and maximum of that column\n",
    "#     minimum = min(base[col])\n",
    "#     maximum = max(base[col])\n",
    "#     base[col] = (base[col] - minimum) / (maximum - minimum)\n",
    "\n",
    "# print(base.shape)\n",
    "# base.head()"
   ]
  },
  {
   "attachments": {},
   "cell_type": "markdown",
   "metadata": {},
   "source": [
    "### Standardization "
   ]
  },
  {
   "cell_type": "code",
   "execution_count": 19,
   "metadata": {},
   "outputs": [],
   "source": [
    "u = base['Rooms'].mean()"
   ]
  },
  {
   "cell_type": "code",
   "execution_count": 20,
   "metadata": {},
   "outputs": [],
   "source": [
    "s = base['Rooms'].std()"
   ]
  },
  {
   "attachments": {},
   "cell_type": "markdown",
   "metadata": {},
   "source": [
    "z = (x - u)/s"
   ]
  },
  {
   "cell_type": "code",
   "execution_count": 21,
   "metadata": {},
   "outputs": [
    {
     "name": "stdout",
     "output_type": "stream",
     "text": [
      "0       -0.981427\n",
      "1       -0.981427\n",
      "2        0.064874\n",
      "3        0.064874\n",
      "4        1.111175\n",
      "           ...   \n",
      "13575    1.111175\n",
      "13576    0.064874\n",
      "13577    0.064874\n",
      "13578    1.111175\n",
      "13579    1.111175\n",
      "Name: Rooms, Length: 13580, dtype: float64\n"
     ]
    }
   ],
   "source": [
    "print((base['Rooms']-u)/s)"
   ]
  },
  {
   "cell_type": "code",
   "execution_count": 22,
   "metadata": {},
   "outputs": [],
   "source": [
    "dict_columns = {}\n",
    "\n",
    "for cols in base.columns:\n",
    "    u = base[cols].mean()\n",
    "    s = base[cols].std()\n",
    "    dict_columns[cols] = [round(u, 2),round(s,2)]\n",
    "\n",
    "dict_columns\n",
    "\n",
    "pickle.dump(dict_columns, open('../model/std_scalar.pkl', 'wb'))\n"
   ]
  },
  {
   "cell_type": "code",
   "execution_count": 23,
   "metadata": {},
   "outputs": [
    {
     "data": {
      "text/html": [
       "<div>\n",
       "<style scoped>\n",
       "    .dataframe tbody tr th:only-of-type {\n",
       "        vertical-align: middle;\n",
       "    }\n",
       "\n",
       "    .dataframe tbody tr th {\n",
       "        vertical-align: top;\n",
       "    }\n",
       "\n",
       "    .dataframe thead th {\n",
       "        text-align: right;\n",
       "    }\n",
       "</style>\n",
       "<table border=\"1\" class=\"dataframe\">\n",
       "  <thead>\n",
       "    <tr style=\"text-align: right;\">\n",
       "      <th></th>\n",
       "      <th>Rooms</th>\n",
       "      <th>Distance</th>\n",
       "      <th>Bathroom</th>\n",
       "      <th>Car</th>\n",
       "      <th>Landsize</th>\n",
       "      <th>Lattitude</th>\n",
       "      <th>Longtitude</th>\n",
       "      <th>Propertycount</th>\n",
       "      <th>Month</th>\n",
       "    </tr>\n",
       "  </thead>\n",
       "  <tbody>\n",
       "    <tr>\n",
       "      <th>0</th>\n",
       "      <td>-0.981463</td>\n",
       "      <td>-1.301485</td>\n",
       "      <td>-0.772376</td>\n",
       "      <td>-0.636847</td>\n",
       "      <td>-0.089316</td>\n",
       "      <td>0.121160</td>\n",
       "      <td>0.030640</td>\n",
       "      <td>-0.784625</td>\n",
       "      <td>-1.342079</td>\n",
       "    </tr>\n",
       "    <tr>\n",
       "      <th>1</th>\n",
       "      <td>-0.981463</td>\n",
       "      <td>-1.301485</td>\n",
       "      <td>-0.772376</td>\n",
       "      <td>-1.677692</td>\n",
       "      <td>-0.100843</td>\n",
       "      <td>0.016437</td>\n",
       "      <td>-0.017478</td>\n",
       "      <td>-0.784625</td>\n",
       "      <td>-0.979550</td>\n",
       "    </tr>\n",
       "    <tr>\n",
       "      <th>2</th>\n",
       "      <td>0.064876</td>\n",
       "      <td>-1.301485</td>\n",
       "      <td>0.673367</td>\n",
       "      <td>-1.677692</td>\n",
       "      <td>-0.106356</td>\n",
       "      <td>-0.001227</td>\n",
       "      <td>-0.007855</td>\n",
       "      <td>-0.784625</td>\n",
       "      <td>-0.979550</td>\n",
       "    </tr>\n",
       "    <tr>\n",
       "      <th>3</th>\n",
       "      <td>0.064876</td>\n",
       "      <td>-1.301485</td>\n",
       "      <td>0.673367</td>\n",
       "      <td>-0.636847</td>\n",
       "      <td>-0.116380</td>\n",
       "      <td>0.155226</td>\n",
       "      <td>0.016204</td>\n",
       "      <td>-0.784625</td>\n",
       "      <td>-0.979550</td>\n",
       "    </tr>\n",
       "    <tr>\n",
       "      <th>4</th>\n",
       "      <td>1.111216</td>\n",
       "      <td>-1.301485</td>\n",
       "      <td>-0.772376</td>\n",
       "      <td>0.403998</td>\n",
       "      <td>-0.109864</td>\n",
       "      <td>0.025269</td>\n",
       "      <td>-0.010742</td>\n",
       "      <td>-0.784625</td>\n",
       "      <td>-0.979550</td>\n",
       "    </tr>\n",
       "  </tbody>\n",
       "</table>\n",
       "</div>"
      ],
      "text/plain": [
       "      Rooms  Distance  Bathroom       Car  Landsize  Lattitude  Longtitude  \\\n",
       "0 -0.981463 -1.301485 -0.772376 -0.636847 -0.089316   0.121160    0.030640   \n",
       "1 -0.981463 -1.301485 -0.772376 -1.677692 -0.100843   0.016437   -0.017478   \n",
       "2  0.064876 -1.301485  0.673367 -1.677692 -0.106356  -0.001227   -0.007855   \n",
       "3  0.064876 -1.301485  0.673367 -0.636847 -0.116380   0.155226    0.016204   \n",
       "4  1.111216 -1.301485 -0.772376  0.403998 -0.109864   0.025269   -0.010742   \n",
       "\n",
       "   Propertycount     Month  \n",
       "0      -0.784625 -1.342079  \n",
       "1      -0.784625 -0.979550  \n",
       "2      -0.784625 -0.979550  \n",
       "3      -0.784625 -0.979550  \n",
       "4      -0.784625 -0.979550  "
      ]
     },
     "execution_count": 23,
     "metadata": {},
     "output_type": "execute_result"
    }
   ],
   "source": [
    "# standardization\n",
    "\n",
    "scalar = preprocessing.StandardScaler(with_mean=True, with_std=True)\n",
    "\n",
    "# fit our data\n",
    "cols = [col for col in base.columns if col != \"Price\"]\n",
    "scaled_cols = scalar.fit_transform(base[cols])\n",
    "scaled_cols = pd.DataFrame(scaled_cols, columns=cols)\n",
    "scaled_cols.head()"
   ]
  },
  {
   "cell_type": "code",
   "execution_count": 24,
   "metadata": {},
   "outputs": [
    {
     "name": "stdout",
     "output_type": "stream",
     "text": [
      "(13580, 10)\n"
     ]
    },
    {
     "data": {
      "text/html": [
       "<div>\n",
       "<style scoped>\n",
       "    .dataframe tbody tr th:only-of-type {\n",
       "        vertical-align: middle;\n",
       "    }\n",
       "\n",
       "    .dataframe tbody tr th {\n",
       "        vertical-align: top;\n",
       "    }\n",
       "\n",
       "    .dataframe thead th {\n",
       "        text-align: right;\n",
       "    }\n",
       "</style>\n",
       "<table border=\"1\" class=\"dataframe\">\n",
       "  <thead>\n",
       "    <tr style=\"text-align: right;\">\n",
       "      <th></th>\n",
       "      <th>Rooms</th>\n",
       "      <th>Price</th>\n",
       "      <th>Distance</th>\n",
       "      <th>Bathroom</th>\n",
       "      <th>Car</th>\n",
       "      <th>Landsize</th>\n",
       "      <th>Lattitude</th>\n",
       "      <th>Longtitude</th>\n",
       "      <th>Propertycount</th>\n",
       "      <th>Month</th>\n",
       "    </tr>\n",
       "  </thead>\n",
       "  <tbody>\n",
       "    <tr>\n",
       "      <th>0</th>\n",
       "      <td>-0.981463</td>\n",
       "      <td>1480000.0</td>\n",
       "      <td>-1.301485</td>\n",
       "      <td>-0.772376</td>\n",
       "      <td>-0.636847</td>\n",
       "      <td>-0.089316</td>\n",
       "      <td>0.121160</td>\n",
       "      <td>0.030640</td>\n",
       "      <td>-0.784625</td>\n",
       "      <td>-1.342079</td>\n",
       "    </tr>\n",
       "    <tr>\n",
       "      <th>1</th>\n",
       "      <td>-0.981463</td>\n",
       "      <td>1035000.0</td>\n",
       "      <td>-1.301485</td>\n",
       "      <td>-0.772376</td>\n",
       "      <td>-1.677692</td>\n",
       "      <td>-0.100843</td>\n",
       "      <td>0.016437</td>\n",
       "      <td>-0.017478</td>\n",
       "      <td>-0.784625</td>\n",
       "      <td>-0.979550</td>\n",
       "    </tr>\n",
       "    <tr>\n",
       "      <th>2</th>\n",
       "      <td>0.064876</td>\n",
       "      <td>1465000.0</td>\n",
       "      <td>-1.301485</td>\n",
       "      <td>0.673367</td>\n",
       "      <td>-1.677692</td>\n",
       "      <td>-0.106356</td>\n",
       "      <td>-0.001227</td>\n",
       "      <td>-0.007855</td>\n",
       "      <td>-0.784625</td>\n",
       "      <td>-0.979550</td>\n",
       "    </tr>\n",
       "    <tr>\n",
       "      <th>3</th>\n",
       "      <td>0.064876</td>\n",
       "      <td>850000.0</td>\n",
       "      <td>-1.301485</td>\n",
       "      <td>0.673367</td>\n",
       "      <td>-0.636847</td>\n",
       "      <td>-0.116380</td>\n",
       "      <td>0.155226</td>\n",
       "      <td>0.016204</td>\n",
       "      <td>-0.784625</td>\n",
       "      <td>-0.979550</td>\n",
       "    </tr>\n",
       "    <tr>\n",
       "      <th>4</th>\n",
       "      <td>1.111216</td>\n",
       "      <td>1600000.0</td>\n",
       "      <td>-1.301485</td>\n",
       "      <td>-0.772376</td>\n",
       "      <td>0.403998</td>\n",
       "      <td>-0.109864</td>\n",
       "      <td>0.025269</td>\n",
       "      <td>-0.010742</td>\n",
       "      <td>-0.784625</td>\n",
       "      <td>-0.979550</td>\n",
       "    </tr>\n",
       "  </tbody>\n",
       "</table>\n",
       "</div>"
      ],
      "text/plain": [
       "      Rooms      Price  Distance  Bathroom       Car  Landsize  Lattitude  \\\n",
       "0 -0.981463  1480000.0 -1.301485 -0.772376 -0.636847 -0.089316   0.121160   \n",
       "1 -0.981463  1035000.0 -1.301485 -0.772376 -1.677692 -0.100843   0.016437   \n",
       "2  0.064876  1465000.0 -1.301485  0.673367 -1.677692 -0.106356  -0.001227   \n",
       "3  0.064876   850000.0 -1.301485  0.673367 -0.636847 -0.116380   0.155226   \n",
       "4  1.111216  1600000.0 -1.301485 -0.772376  0.403998 -0.109864   0.025269   \n",
       "\n",
       "   Longtitude  Propertycount     Month  \n",
       "0    0.030640      -0.784625 -1.342079  \n",
       "1   -0.017478      -0.784625 -0.979550  \n",
       "2   -0.007855      -0.784625 -0.979550  \n",
       "3    0.016204      -0.784625 -0.979550  \n",
       "4   -0.010742      -0.784625 -0.979550  "
      ]
     },
     "execution_count": 24,
     "metadata": {},
     "output_type": "execute_result"
    }
   ],
   "source": [
    "for col in cols:\n",
    "    base[col] = scaled_cols[col]\n",
    "\n",
    "print(base.shape)\n",
    "base.head()"
   ]
  },
  {
   "attachments": {},
   "cell_type": "markdown",
   "metadata": {},
   "source": [
    "Escolhemos o redimensionamento por normalização já que vimos que as principais features tem distribuição normal ou quase normal. O redimensionamento não irá alterar o erro da regressão, no entanto afeta a qualidade já que um feature desproporcional aos demais pode ter um peso maior em comparação, daí a necessidade do dimensionamento."
   ]
  },
  {
   "attachments": {},
   "cell_type": "markdown",
   "metadata": {},
   "source": [
    "## Model Training"
   ]
  },
  {
   "cell_type": "code",
   "execution_count": 25,
   "metadata": {},
   "outputs": [],
   "source": [
    "## Input Split\n",
    "\n",
    "X = base.drop(columns=['Price'])\n",
    "y = base['Price']"
   ]
  },
  {
   "attachments": {},
   "cell_type": "markdown",
   "metadata": {},
   "source": [
    "dropamos o valor alvo e setamos a variável X como sendo as features utilizadas no modelo. y é o nosso alvo da regressão."
   ]
  },
  {
   "cell_type": "code",
   "execution_count": 26,
   "metadata": {},
   "outputs": [
    {
     "name": "stdout",
     "output_type": "stream",
     "text": [
      "train (10185, 9)\n",
      "test (3395, 9)\n"
     ]
    }
   ],
   "source": [
    "x_train, x_test, y_train, y_test = train_test_split(X, y, random_state=42)\n",
    "\n",
    "print(f\"train {x_train.shape}\")\n",
    "print(f\"test {x_test.shape}\")"
   ]
  },
  {
   "attachments": {},
   "cell_type": "markdown",
   "metadata": {},
   "source": [
    "Dividimos randomicamente o dataset em teste e treino de x e y, repectivamente, ao descompactar a tupla de retorno. O valor `random_state` significa um número de seed dado com fins de reprodutibilidade da divisão."
   ]
  },
  {
   "cell_type": "code",
   "execution_count": 27,
   "metadata": {},
   "outputs": [
    {
     "data": {
      "text/html": [
       "<div>\n",
       "<style scoped>\n",
       "    .dataframe tbody tr th:only-of-type {\n",
       "        vertical-align: middle;\n",
       "    }\n",
       "\n",
       "    .dataframe tbody tr th {\n",
       "        vertical-align: top;\n",
       "    }\n",
       "\n",
       "    .dataframe thead th {\n",
       "        text-align: right;\n",
       "    }\n",
       "</style>\n",
       "<table border=\"1\" class=\"dataframe\">\n",
       "  <thead>\n",
       "    <tr style=\"text-align: right;\">\n",
       "      <th></th>\n",
       "      <th>Rooms</th>\n",
       "      <th>Distance</th>\n",
       "      <th>Bathroom</th>\n",
       "      <th>Car</th>\n",
       "      <th>Landsize</th>\n",
       "      <th>Lattitude</th>\n",
       "      <th>Longtitude</th>\n",
       "      <th>Propertycount</th>\n",
       "      <th>Month</th>\n",
       "    </tr>\n",
       "  </thead>\n",
       "  <tbody>\n",
       "    <tr>\n",
       "      <th>1061</th>\n",
       "      <td>0.064876</td>\n",
       "      <td>0.181004</td>\n",
       "      <td>0.673367</td>\n",
       "      <td>1.444843</td>\n",
       "      <td>0.007414</td>\n",
       "      <td>-1.507721</td>\n",
       "      <td>-0.030951</td>\n",
       "      <td>0.713632</td>\n",
       "      <td>-0.254491</td>\n",
       "    </tr>\n",
       "    <tr>\n",
       "      <th>6482</th>\n",
       "      <td>-0.981463</td>\n",
       "      <td>-1.403726</td>\n",
       "      <td>-0.772376</td>\n",
       "      <td>-0.636847</td>\n",
       "      <td>-0.139936</td>\n",
       "      <td>0.001296</td>\n",
       "      <td>-0.415893</td>\n",
       "      <td>-1.193220</td>\n",
       "      <td>-0.617021</td>\n",
       "    </tr>\n",
       "    <tr>\n",
       "      <th>8395</th>\n",
       "      <td>0.064876</td>\n",
       "      <td>-0.688041</td>\n",
       "      <td>-0.772376</td>\n",
       "      <td>-1.677692</td>\n",
       "      <td>-0.139936</td>\n",
       "      <td>-0.789802</td>\n",
       "      <td>-0.178191</td>\n",
       "      <td>1.321386</td>\n",
       "      <td>-0.979550</td>\n",
       "    </tr>\n",
       "    <tr>\n",
       "      <th>4659</th>\n",
       "      <td>0.064876</td>\n",
       "      <td>-0.040517</td>\n",
       "      <td>0.673367</td>\n",
       "      <td>-0.636847</td>\n",
       "      <td>-0.103349</td>\n",
       "      <td>1.186051</td>\n",
       "      <td>-0.583343</td>\n",
       "      <td>0.006985</td>\n",
       "      <td>-0.254491</td>\n",
       "    </tr>\n",
       "    <tr>\n",
       "      <th>7386</th>\n",
       "      <td>-0.981463</td>\n",
       "      <td>-0.176838</td>\n",
       "      <td>-0.772376</td>\n",
       "      <td>0.403998</td>\n",
       "      <td>-0.024161</td>\n",
       "      <td>-0.301517</td>\n",
       "      <td>-1.190589</td>\n",
       "      <td>-1.477797</td>\n",
       "      <td>0.833097</td>\n",
       "    </tr>\n",
       "  </tbody>\n",
       "</table>\n",
       "</div>"
      ],
      "text/plain": [
       "         Rooms  Distance  Bathroom       Car  Landsize  Lattitude  Longtitude  \\\n",
       "1061  0.064876  0.181004  0.673367  1.444843  0.007414  -1.507721   -0.030951   \n",
       "6482 -0.981463 -1.403726 -0.772376 -0.636847 -0.139936   0.001296   -0.415893   \n",
       "8395  0.064876 -0.688041 -0.772376 -1.677692 -0.139936  -0.789802   -0.178191   \n",
       "4659  0.064876 -0.040517  0.673367 -0.636847 -0.103349   1.186051   -0.583343   \n",
       "7386 -0.981463 -0.176838 -0.772376  0.403998 -0.024161  -0.301517   -1.190589   \n",
       "\n",
       "      Propertycount     Month  \n",
       "1061       0.713632 -0.254491  \n",
       "6482      -1.193220 -0.617021  \n",
       "8395       1.321386 -0.979550  \n",
       "4659       0.006985 -0.254491  \n",
       "7386      -1.477797  0.833097  "
      ]
     },
     "execution_count": 27,
     "metadata": {},
     "output_type": "execute_result"
    }
   ],
   "source": [
    "x_test.head()"
   ]
  },
  {
   "attachments": {},
   "cell_type": "markdown",
   "metadata": {},
   "source": [
    "### Linear Regression"
   ]
  },
  {
   "attachments": {},
   "cell_type": "markdown",
   "metadata": {},
   "source": [
    "Na regressão linear, teremos as features (parametros) como valores numéricos já preprocessados no passo anterior como entrada deste modelo de regressão com intuito de prever, extrapolar ou interpolar, o alvo (preço).\n",
    "\n",
    "O modelo é uma implementação de uma função do tipo $\\hat{y} = \\theta_0 + \\theta_1 x_1 + \\theta_2 x_2 + ... + \\theta_n x_n$, onde $\\hat{y}$ é o valor alvo a ser previsto, n é o número de features, x é o valor da feature, $\\theta_j$ é o j-ésimo valor do peso do modelo. Considerando os valores das features e dos pesos como inputs de vetores coluna, teremos $\\hat{y} = h_{\\theta}(\\bold{x}) = \\bold{\\theta^{T}}\\bold{x}$, na forma vetorizada. O h pode ser chamado de função hipótese, que vai ser minimizada contra as features de treino ao quadrado, Erro Quadrático Médio.\n",
    "\n",
    "$$ MSE(\\bold{X}, h_\\theta) = \\frac{1}{N} \\sum_{i=1}^N \\big(\\bold{\\theta^{T}}\\bold{x}^{(i)}-y^{(i)}\\big)^2 $$\n",
    "\n",
    "\n",
    "O valor do vetor $\\theta$ que minimiza a função custo tem uma solução fechada dada pela equação normal:\n",
    "\n",
    "$$ \\hat{\\bold{\\theta}} = (\\bold{X}^T\\bold{X})^{-1}\\bold{X}^T \\bold{y} $$"
   ]
  },
  {
   "attachments": {},
   "cell_type": "markdown",
   "metadata": {},
   "source": [
    "### $R^2$ - Coeficiente de Determinação"
   ]
  },
  {
   "attachments": {},
   "cell_type": "markdown",
   "metadata": {},
   "source": [
    "Um dos coeficientes de erro utilizados para determianar a qualidade da regressão é o \"R quadrado\" que mede a proporção da variação da variavel dependente que é prevista pelas variáveis independentes. Sua equação é como se segue:\n",
    "\n",
    "$$ R^2 = 1 - \\frac{\\displaystyle \\sum_{i=0}^N \\big(y^{(i)} - h(\\theta)^{(i)}\\big)}{\\displaystyle \\sum_{i=0}^N \\big(y^{(i)} - \\bar{y}\\big)} $$\n",
    "\n",
    "onde $\\bar{y}$ é a média dos valores de y. O coeficiente varia de 0 a 1, onde 1 representa a predição perfeita do alvo pelas features."
   ]
  },
  {
   "cell_type": "code",
   "execution_count": 31,
   "metadata": {},
   "outputs": [
    {
     "name": "stdout",
     "output_type": "stream",
     "text": [
      "R2 0.4805994196314084\n"
     ]
    },
    {
     "data": {
      "image/png": "[encoded data removed]",
      "text/plain": [
       "<Figure size 640x480 with 1 Axes>"
      ]
     },
     "metadata": {},
     "output_type": "display_data"
    }
   ],
   "source": [
    "from sklearn.linear_model import LinearRegression\n",
    "\n",
    "model_lr = LinearRegression()\n",
    "model_lr.fit(x_train, y_train)\n",
    "\n",
    "pred_lr = model_lr.predict(x_test)\n",
    "#mean_sqr_lr = mean_squared_error(y_test, pred_lr)\n",
    "r2_lr = r2_score(y_test, pred_lr)\n",
    "print(\"R2\", r2_lr)\n",
    "#print(\"MSE\", mean_sqr_lr)\n",
    "\n",
    "coef_lr = pd.Series(model_lr.coef_, X.columns).sort_values()\n",
    "coef_lr.plot(kind='bar', title=\"Model Coefficients\")\n",
    "plt.show()"
   ]
  },
  {
   "cell_type": "code",
   "execution_count": null,
   "metadata": {},
   "outputs": [],
   "source": [
    "# result = [i/(1e6) for i in pred_lr]\n",
    "# result"
   ]
  },
  {
   "cell_type": "code",
   "execution_count": null,
   "metadata": {},
   "outputs": [],
   "source": [
    "# x_tst = x_test\n",
    "# x_tst[\"Predicted_Value\"] = result\n",
    "# x_tst"
   ]
  },
  {
   "attachments": {},
   "cell_type": "markdown",
   "metadata": {},
   "source": [
    " Visualiza os valores previstos x y_test"
   ]
  },
  {
   "cell_type": "code",
   "execution_count": 32,
   "metadata": {},
   "outputs": [
    {
     "data": {
      "image/png": "[encoded data removed]",
      "text/plain": [
       "<Figure size 640x480 with 1 Axes>"
      ]
     },
     "metadata": {},
     "output_type": "display_data"
    }
   ],
   "source": [
    "# concatena os dois objetos no axis columns\n",
    "df_pred_lr = pd.concat([y_test.reset_index(drop=True), # reseta o index e dropa a coluna do old index\n",
    "            pd.Series(pred_lr, name=\"Predicao\")],      \n",
    "            axis=1)                                    \n",
    "\n",
    "sns.regplot(x=\"Price\", y=\"Predicao\", data=df_pred_lr)\n",
    "plt.show()"
   ]
  },
  {
   "attachments": {},
   "cell_type": "markdown",
   "metadata": {},
   "source": [
    "### Random Forest Regressor"
   ]
  },
  {
   "attachments": {},
   "cell_type": "markdown",
   "metadata": {},
   "source": [
    "As arvores de decisão são obejtos utilzados em modelos que envolvem a classificação de features, organizando-as em uma estruta de árvore, com cada ponto do nó sendo decidido pela classificação do valor, caracterizando e identificando assim de uma forma unívoca as features. Porém, podemos utilizar valores numéricos, e não labels, para determinar numéricamente, transformado ele efetivamente em um regressor. \n",
    "\n",
    "A Random Forest (\"Floresta Aleatória\") é um algoritmo de aprendizado de máquina utilizado para tarefas de classificação e regressão. É composto por várias árvores de decisão individuais, onde cada árvore é treinada em uma amostra aleatória do conjunto de dados. Durante a previsão, as respostas de cada árvore são combinadas para obter uma predição final mais precisa e estável.\n",
    "\n",
    "A random forest é um metaestimador que ajusta um número de árvores de decisão classificadoras em várias subamostras do conjunto de dados e usa a média para melhorar a precisão preditiva e controlar o overfitting."
   ]
  },
  {
   "cell_type": "code",
   "execution_count": 33,
   "metadata": {},
   "outputs": [
    {
     "name": "stdout",
     "output_type": "stream",
     "text": [
      "R2 0.7952157050100092\n"
     ]
    },
    {
     "data": {
      "image/png": "[encoded data removed]",
      "text/plain": [
       "<Figure size 640x480 with 1 Axes>"
      ]
     },
     "metadata": {},
     "output_type": "display_data"
    }
   ],
   "source": [
    "from sklearn.ensemble import RandomForestRegressor\n",
    "\n",
    "model_rfr = RandomForestRegressor()\n",
    "model_rfr.fit(x_train, y_train)\n",
    "\n",
    "pred_rfr = model_rfr.predict(x_test)\n",
    "# mean_sqr_rfr = mean_squared_error(y_test, pred_rfr)\n",
    "r2_rfr = r2_score(y_test, pred_rfr)\n",
    "print(\"R2\", r2_rfr)\n",
    "\n",
    "coef_rfr = pd.Series(model_rfr.feature_importances_, X.columns).sort_values(ascending=False)\n",
    "coef_rfr.plot(kind='bar', title=\"Feature Importance\")\n",
    "plt.show()"
   ]
  },
  {
   "attachments": {},
   "cell_type": "markdown",
   "metadata": {},
   "source": [
    "repetimos o passo de visualização do modelo anterior"
   ]
  },
  {
   "cell_type": "code",
   "execution_count": 34,
   "metadata": {},
   "outputs": [
    {
     "data": {
      "image/png": "[encoded data removed]",
      "text/plain": [
       "<Figure size 640x480 with 1 Axes>"
      ]
     },
     "metadata": {},
     "output_type": "display_data"
    }
   ],
   "source": [
    "df_pred_rfr = pd.concat([y_test.reset_index(drop=True), \n",
    "            pd.Series(pred_rfr, name=\"Predicao\")], \n",
    "            axis=1)\n",
    "\n",
    "sns.regplot(x=\"Price\", y=\"Predicao\", data=df_pred_rfr)\n",
    "plt.show()"
   ]
  },
  {
   "attachments": {},
   "cell_type": "markdown",
   "metadata": {},
   "source": [
    "## Salvando o Modelo e o Scaler"
   ]
  },
  {
   "cell_type": "code",
   "execution_count": 35,
   "metadata": {},
   "outputs": [],
   "source": [
    "import pickle"
   ]
  },
  {
   "cell_type": "code",
   "execution_count": 37,
   "metadata": {},
   "outputs": [],
   "source": [
    "pickle.dump(model_rfr, open('../model/model.pkl', 'wb'))"
   ]
  },
  {
   "cell_type": "code",
   "execution_count": 39,
   "metadata": {},
   "outputs": [],
   "source": [
    "pickle.dump(scalar, open('../model/scalar.pkl', 'wb'))"
   ]
  }
 ],
 "metadata": {
  "kernelspec": {
   "display_name": "Python 3",
   "language": "python",
   "name": "python3"
  },
  "language_info": {
   "codemirror_mode": {
    "name": "ipython",
    "version": 3
   },
   "file_extension": ".py",
   "mimetype": "text/x-python",
   "name": "python",
   "nbconvert_exporter": "python",
   "pygments_lexer": "ipython3",
   "version": "3.11.3"
  },
  "orig_nbformat": 4
 },
 "nbformat": 4,
 "nbformat_minor": 2
}
