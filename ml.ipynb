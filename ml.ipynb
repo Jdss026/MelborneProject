{
 "cells": [
  {
   "attachments": {},
   "cell_type": "markdown",
   "metadata": {},
   "source": [
    "# Machine Learning Model"
   ]
  },
  {
   "cell_type": "code",
   "execution_count": 96,
   "metadata": {},
   "outputs": [],
   "source": [
    "import pandas as pd\n",
    "from sklearn import preprocessing\n",
    "import seaborn as sns\n",
    "import matplotlib.pyplot as plt\n",
    "%matplotlib inline\n",
    "\n",
    "from sklearn.model_selection import train_test_split\n",
    "from sklearn.metrics import mean_squared_error, r2_score"
   ]
  },
  {
   "attachments": {},
   "cell_type": "markdown",
   "metadata": {},
   "source": [
    "# Carrega Base de dados Tratada"
   ]
  },
  {
   "cell_type": "code",
   "execution_count": 97,
   "metadata": {},
   "outputs": [
    {
     "name": "stdout",
     "output_type": "stream",
     "text": [
      "(13580, 10)\n"
     ]
    },
    {
     "data": {
      "text/html": [
       "<div>\n",
       "<style scoped>\n",
       "    .dataframe tbody tr th:only-of-type {\n",
       "        vertical-align: middle;\n",
       "    }\n",
       "\n",
       "    .dataframe tbody tr th {\n",
       "        vertical-align: top;\n",
       "    }\n",
       "\n",
       "    .dataframe thead th {\n",
       "        text-align: right;\n",
       "    }\n",
       "</style>\n",
       "<table border=\"1\" class=\"dataframe\">\n",
       "  <thead>\n",
       "    <tr style=\"text-align: right;\">\n",
       "      <th></th>\n",
       "      <th>Rooms</th>\n",
       "      <th>Price</th>\n",
       "      <th>Distance</th>\n",
       "      <th>Bathroom</th>\n",
       "      <th>Car</th>\n",
       "      <th>Landsize</th>\n",
       "      <th>Lattitude</th>\n",
       "      <th>Longtitude</th>\n",
       "      <th>Propertycount</th>\n",
       "      <th>Month</th>\n",
       "    </tr>\n",
       "  </thead>\n",
       "  <tbody>\n",
       "    <tr>\n",
       "      <th>0</th>\n",
       "      <td>2</td>\n",
       "      <td>1480000.0</td>\n",
       "      <td>2.5</td>\n",
       "      <td>1.0</td>\n",
       "      <td>1.0</td>\n",
       "      <td>202.0</td>\n",
       "      <td>-37.7996</td>\n",
       "      <td>144.9984</td>\n",
       "      <td>4019.0</td>\n",
       "      <td>3</td>\n",
       "    </tr>\n",
       "    <tr>\n",
       "      <th>1</th>\n",
       "      <td>2</td>\n",
       "      <td>1035000.0</td>\n",
       "      <td>2.5</td>\n",
       "      <td>1.0</td>\n",
       "      <td>0.0</td>\n",
       "      <td>156.0</td>\n",
       "      <td>-37.8079</td>\n",
       "      <td>144.9934</td>\n",
       "      <td>4019.0</td>\n",
       "      <td>4</td>\n",
       "    </tr>\n",
       "    <tr>\n",
       "      <th>2</th>\n",
       "      <td>3</td>\n",
       "      <td>1465000.0</td>\n",
       "      <td>2.5</td>\n",
       "      <td>2.0</td>\n",
       "      <td>0.0</td>\n",
       "      <td>134.0</td>\n",
       "      <td>-37.8093</td>\n",
       "      <td>144.9944</td>\n",
       "      <td>4019.0</td>\n",
       "      <td>4</td>\n",
       "    </tr>\n",
       "    <tr>\n",
       "      <th>3</th>\n",
       "      <td>3</td>\n",
       "      <td>850000.0</td>\n",
       "      <td>2.5</td>\n",
       "      <td>2.0</td>\n",
       "      <td>1.0</td>\n",
       "      <td>94.0</td>\n",
       "      <td>-37.7969</td>\n",
       "      <td>144.9969</td>\n",
       "      <td>4019.0</td>\n",
       "      <td>4</td>\n",
       "    </tr>\n",
       "    <tr>\n",
       "      <th>4</th>\n",
       "      <td>4</td>\n",
       "      <td>1600000.0</td>\n",
       "      <td>2.5</td>\n",
       "      <td>1.0</td>\n",
       "      <td>2.0</td>\n",
       "      <td>120.0</td>\n",
       "      <td>-37.8072</td>\n",
       "      <td>144.9941</td>\n",
       "      <td>4019.0</td>\n",
       "      <td>4</td>\n",
       "    </tr>\n",
       "  </tbody>\n",
       "</table>\n",
       "</div>"
      ],
      "text/plain": [
       "   Rooms      Price  Distance  Bathroom  Car  Landsize  Lattitude  Longtitude  \\\n",
       "0      2  1480000.0       2.5       1.0  1.0     202.0   -37.7996    144.9984   \n",
       "1      2  1035000.0       2.5       1.0  0.0     156.0   -37.8079    144.9934   \n",
       "2      3  1465000.0       2.5       2.0  0.0     134.0   -37.8093    144.9944   \n",
       "3      3   850000.0       2.5       2.0  1.0      94.0   -37.7969    144.9969   \n",
       "4      4  1600000.0       2.5       1.0  2.0     120.0   -37.8072    144.9941   \n",
       "\n",
       "   Propertycount  Month  \n",
       "0         4019.0      3  \n",
       "1         4019.0      4  \n",
       "2         4019.0      4  \n",
       "3         4019.0      4  \n",
       "4         4019.0      4  "
      ]
     },
     "execution_count": 97,
     "metadata": {},
     "output_type": "execute_result"
    }
   ],
   "source": [
    "base = pd.read_csv(\"./data/base_tratada.csv\", sep=\";\", usecols=None)\n",
    "print(base.shape)\n",
    "base.head()"
   ]
  },
  {
   "attachments": {},
   "cell_type": "markdown",
   "metadata": {},
   "source": [
    "## PreProcessamento da Base"
   ]
  },
  {
   "attachments": {},
   "cell_type": "markdown",
   "metadata": {},
   "source": [
    "### Min Max Scaler"
   ]
  },
  {
   "cell_type": "code",
   "execution_count": 98,
   "metadata": {},
   "outputs": [],
   "source": [
    "# cols = [col for col in base.columns if col != \"Price\"]\n",
    "# for col in cols:\n",
    "#     # find minimum and maximum of that column\n",
    "#     minimum = min(base[col])\n",
    "#     maximum = max(base[col])\n",
    "#     base[col] = (base[col] - minimum) / (maximum - minimum)\n",
    "\n",
    "# print(base.shape)\n",
    "# base.head()"
   ]
  },
  {
   "attachments": {},
   "cell_type": "markdown",
   "metadata": {},
   "source": [
    "### Standardization "
   ]
  },
  {
   "cell_type": "code",
   "execution_count": 99,
   "metadata": {},
   "outputs": [
    {
     "data": {
      "text/html": [
       "<div>\n",
       "<style scoped>\n",
       "    .dataframe tbody tr th:only-of-type {\n",
       "        vertical-align: middle;\n",
       "    }\n",
       "\n",
       "    .dataframe tbody tr th {\n",
       "        vertical-align: top;\n",
       "    }\n",
       "\n",
       "    .dataframe thead th {\n",
       "        text-align: right;\n",
       "    }\n",
       "</style>\n",
       "<table border=\"1\" class=\"dataframe\">\n",
       "  <thead>\n",
       "    <tr style=\"text-align: right;\">\n",
       "      <th></th>\n",
       "      <th>Rooms</th>\n",
       "      <th>Distance</th>\n",
       "      <th>Bathroom</th>\n",
       "      <th>Car</th>\n",
       "      <th>Landsize</th>\n",
       "      <th>Lattitude</th>\n",
       "      <th>Longtitude</th>\n",
       "      <th>Propertycount</th>\n",
       "      <th>Month</th>\n",
       "    </tr>\n",
       "  </thead>\n",
       "  <tbody>\n",
       "    <tr>\n",
       "      <th>0</th>\n",
       "      <td>-0.981463</td>\n",
       "      <td>-1.301485</td>\n",
       "      <td>-0.772376</td>\n",
       "      <td>-0.636847</td>\n",
       "      <td>-0.089316</td>\n",
       "      <td>0.121160</td>\n",
       "      <td>0.030640</td>\n",
       "      <td>-0.784625</td>\n",
       "      <td>-1.342079</td>\n",
       "    </tr>\n",
       "    <tr>\n",
       "      <th>1</th>\n",
       "      <td>-0.981463</td>\n",
       "      <td>-1.301485</td>\n",
       "      <td>-0.772376</td>\n",
       "      <td>-1.677692</td>\n",
       "      <td>-0.100843</td>\n",
       "      <td>0.016437</td>\n",
       "      <td>-0.017478</td>\n",
       "      <td>-0.784625</td>\n",
       "      <td>-0.979550</td>\n",
       "    </tr>\n",
       "    <tr>\n",
       "      <th>2</th>\n",
       "      <td>0.064876</td>\n",
       "      <td>-1.301485</td>\n",
       "      <td>0.673367</td>\n",
       "      <td>-1.677692</td>\n",
       "      <td>-0.106356</td>\n",
       "      <td>-0.001227</td>\n",
       "      <td>-0.007855</td>\n",
       "      <td>-0.784625</td>\n",
       "      <td>-0.979550</td>\n",
       "    </tr>\n",
       "    <tr>\n",
       "      <th>3</th>\n",
       "      <td>0.064876</td>\n",
       "      <td>-1.301485</td>\n",
       "      <td>0.673367</td>\n",
       "      <td>-0.636847</td>\n",
       "      <td>-0.116380</td>\n",
       "      <td>0.155226</td>\n",
       "      <td>0.016204</td>\n",
       "      <td>-0.784625</td>\n",
       "      <td>-0.979550</td>\n",
       "    </tr>\n",
       "    <tr>\n",
       "      <th>4</th>\n",
       "      <td>1.111216</td>\n",
       "      <td>-1.301485</td>\n",
       "      <td>-0.772376</td>\n",
       "      <td>0.403998</td>\n",
       "      <td>-0.109864</td>\n",
       "      <td>0.025269</td>\n",
       "      <td>-0.010742</td>\n",
       "      <td>-0.784625</td>\n",
       "      <td>-0.979550</td>\n",
       "    </tr>\n",
       "  </tbody>\n",
       "</table>\n",
       "</div>"
      ],
      "text/plain": [
       "      Rooms  Distance  Bathroom       Car  Landsize  Lattitude  Longtitude  \\\n",
       "0 -0.981463 -1.301485 -0.772376 -0.636847 -0.089316   0.121160    0.030640   \n",
       "1 -0.981463 -1.301485 -0.772376 -1.677692 -0.100843   0.016437   -0.017478   \n",
       "2  0.064876 -1.301485  0.673367 -1.677692 -0.106356  -0.001227   -0.007855   \n",
       "3  0.064876 -1.301485  0.673367 -0.636847 -0.116380   0.155226    0.016204   \n",
       "4  1.111216 -1.301485 -0.772376  0.403998 -0.109864   0.025269   -0.010742   \n",
       "\n",
       "   Propertycount     Month  \n",
       "0      -0.784625 -1.342079  \n",
       "1      -0.784625 -0.979550  \n",
       "2      -0.784625 -0.979550  \n",
       "3      -0.784625 -0.979550  \n",
       "4      -0.784625 -0.979550  "
      ]
     },
     "execution_count": 99,
     "metadata": {},
     "output_type": "execute_result"
    }
   ],
   "source": [
    "# standardization\n",
    "\n",
    "scalar = preprocessing.StandardScaler()\n",
    "\n",
    "# fit our data\n",
    "cols = [col for col in base.columns if col != \"Price\"]\n",
    "scaled_cols = scalar.fit_transform(base[cols])\n",
    "scaled_cols = pd.DataFrame(scaled_cols, columns=cols)\n",
    "scaled_cols.head()"
   ]
  },
  {
   "cell_type": "code",
   "execution_count": 100,
   "metadata": {},
   "outputs": [
    {
     "name": "stdout",
     "output_type": "stream",
     "text": [
      "(13580, 10)\n"
     ]
    },
    {
     "data": {
      "text/html": [
       "<div>\n",
       "<style scoped>\n",
       "    .dataframe tbody tr th:only-of-type {\n",
       "        vertical-align: middle;\n",
       "    }\n",
       "\n",
       "    .dataframe tbody tr th {\n",
       "        vertical-align: top;\n",
       "    }\n",
       "\n",
       "    .dataframe thead th {\n",
       "        text-align: right;\n",
       "    }\n",
       "</style>\n",
       "<table border=\"1\" class=\"dataframe\">\n",
       "  <thead>\n",
       "    <tr style=\"text-align: right;\">\n",
       "      <th></th>\n",
       "      <th>Rooms</th>\n",
       "      <th>Price</th>\n",
       "      <th>Distance</th>\n",
       "      <th>Bathroom</th>\n",
       "      <th>Car</th>\n",
       "      <th>Landsize</th>\n",
       "      <th>Lattitude</th>\n",
       "      <th>Longtitude</th>\n",
       "      <th>Propertycount</th>\n",
       "      <th>Month</th>\n",
       "    </tr>\n",
       "  </thead>\n",
       "  <tbody>\n",
       "    <tr>\n",
       "      <th>0</th>\n",
       "      <td>-0.981463</td>\n",
       "      <td>1480000.0</td>\n",
       "      <td>-1.301485</td>\n",
       "      <td>-0.772376</td>\n",
       "      <td>-0.636847</td>\n",
       "      <td>-0.089316</td>\n",
       "      <td>0.121160</td>\n",
       "      <td>0.030640</td>\n",
       "      <td>-0.784625</td>\n",
       "      <td>-1.342079</td>\n",
       "    </tr>\n",
       "    <tr>\n",
       "      <th>1</th>\n",
       "      <td>-0.981463</td>\n",
       "      <td>1035000.0</td>\n",
       "      <td>-1.301485</td>\n",
       "      <td>-0.772376</td>\n",
       "      <td>-1.677692</td>\n",
       "      <td>-0.100843</td>\n",
       "      <td>0.016437</td>\n",
       "      <td>-0.017478</td>\n",
       "      <td>-0.784625</td>\n",
       "      <td>-0.979550</td>\n",
       "    </tr>\n",
       "    <tr>\n",
       "      <th>2</th>\n",
       "      <td>0.064876</td>\n",
       "      <td>1465000.0</td>\n",
       "      <td>-1.301485</td>\n",
       "      <td>0.673367</td>\n",
       "      <td>-1.677692</td>\n",
       "      <td>-0.106356</td>\n",
       "      <td>-0.001227</td>\n",
       "      <td>-0.007855</td>\n",
       "      <td>-0.784625</td>\n",
       "      <td>-0.979550</td>\n",
       "    </tr>\n",
       "    <tr>\n",
       "      <th>3</th>\n",
       "      <td>0.064876</td>\n",
       "      <td>850000.0</td>\n",
       "      <td>-1.301485</td>\n",
       "      <td>0.673367</td>\n",
       "      <td>-0.636847</td>\n",
       "      <td>-0.116380</td>\n",
       "      <td>0.155226</td>\n",
       "      <td>0.016204</td>\n",
       "      <td>-0.784625</td>\n",
       "      <td>-0.979550</td>\n",
       "    </tr>\n",
       "    <tr>\n",
       "      <th>4</th>\n",
       "      <td>1.111216</td>\n",
       "      <td>1600000.0</td>\n",
       "      <td>-1.301485</td>\n",
       "      <td>-0.772376</td>\n",
       "      <td>0.403998</td>\n",
       "      <td>-0.109864</td>\n",
       "      <td>0.025269</td>\n",
       "      <td>-0.010742</td>\n",
       "      <td>-0.784625</td>\n",
       "      <td>-0.979550</td>\n",
       "    </tr>\n",
       "  </tbody>\n",
       "</table>\n",
       "</div>"
      ],
      "text/plain": [
       "      Rooms      Price  Distance  Bathroom       Car  Landsize  Lattitude  \\\n",
       "0 -0.981463  1480000.0 -1.301485 -0.772376 -0.636847 -0.089316   0.121160   \n",
       "1 -0.981463  1035000.0 -1.301485 -0.772376 -1.677692 -0.100843   0.016437   \n",
       "2  0.064876  1465000.0 -1.301485  0.673367 -1.677692 -0.106356  -0.001227   \n",
       "3  0.064876   850000.0 -1.301485  0.673367 -0.636847 -0.116380   0.155226   \n",
       "4  1.111216  1600000.0 -1.301485 -0.772376  0.403998 -0.109864   0.025269   \n",
       "\n",
       "   Longtitude  Propertycount     Month  \n",
       "0    0.030640      -0.784625 -1.342079  \n",
       "1   -0.017478      -0.784625 -0.979550  \n",
       "2   -0.007855      -0.784625 -0.979550  \n",
       "3    0.016204      -0.784625 -0.979550  \n",
       "4   -0.010742      -0.784625 -0.979550  "
      ]
     },
     "execution_count": 100,
     "metadata": {},
     "output_type": "execute_result"
    }
   ],
   "source": [
    "for col in cols:\n",
    "    base[col] = scaled_cols[col]\n",
    "\n",
    "print(base.shape)\n",
    "base.head()"
   ]
  },
  {
   "attachments": {},
   "cell_type": "markdown",
   "metadata": {},
   "source": [
    "## Model Training"
   ]
  },
  {
   "cell_type": "code",
   "execution_count": 101,
   "metadata": {},
   "outputs": [],
   "source": [
    "## Input Split\n",
    "\n",
    "X = base.drop(columns=['Price'])\n",
    "y = base['Price']"
   ]
  },
  {
   "cell_type": "code",
   "execution_count": 102,
   "metadata": {},
   "outputs": [
    {
     "name": "stdout",
     "output_type": "stream",
     "text": [
      "train (10185, 9)\n",
      "test (3395, 9)\n"
     ]
    }
   ],
   "source": [
    "x_train, x_test, y_train, y_test = train_test_split(X, y, random_state=42)\n",
    "\n",
    "print(f\"train {x_train.shape}\")\n",
    "print(f\"test {x_test.shape}\")"
   ]
  },
  {
   "cell_type": "code",
   "execution_count": 103,
   "metadata": {},
   "outputs": [
    {
     "data": {
      "text/html": [
       "<div>\n",
       "<style scoped>\n",
       "    .dataframe tbody tr th:only-of-type {\n",
       "        vertical-align: middle;\n",
       "    }\n",
       "\n",
       "    .dataframe tbody tr th {\n",
       "        vertical-align: top;\n",
       "    }\n",
       "\n",
       "    .dataframe thead th {\n",
       "        text-align: right;\n",
       "    }\n",
       "</style>\n",
       "<table border=\"1\" class=\"dataframe\">\n",
       "  <thead>\n",
       "    <tr style=\"text-align: right;\">\n",
       "      <th></th>\n",
       "      <th>Rooms</th>\n",
       "      <th>Distance</th>\n",
       "      <th>Bathroom</th>\n",
       "      <th>Car</th>\n",
       "      <th>Landsize</th>\n",
       "      <th>Lattitude</th>\n",
       "      <th>Longtitude</th>\n",
       "      <th>Propertycount</th>\n",
       "      <th>Month</th>\n",
       "    </tr>\n",
       "  </thead>\n",
       "  <tbody>\n",
       "    <tr>\n",
       "      <th>1061</th>\n",
       "      <td>0.064876</td>\n",
       "      <td>0.181004</td>\n",
       "      <td>0.673367</td>\n",
       "      <td>1.444843</td>\n",
       "      <td>0.007414</td>\n",
       "      <td>-1.507721</td>\n",
       "      <td>-0.030951</td>\n",
       "      <td>0.713632</td>\n",
       "      <td>-0.254491</td>\n",
       "    </tr>\n",
       "    <tr>\n",
       "      <th>6482</th>\n",
       "      <td>-0.981463</td>\n",
       "      <td>-1.403726</td>\n",
       "      <td>-0.772376</td>\n",
       "      <td>-0.636847</td>\n",
       "      <td>-0.139936</td>\n",
       "      <td>0.001296</td>\n",
       "      <td>-0.415893</td>\n",
       "      <td>-1.193220</td>\n",
       "      <td>-0.617021</td>\n",
       "    </tr>\n",
       "    <tr>\n",
       "      <th>8395</th>\n",
       "      <td>0.064876</td>\n",
       "      <td>-0.688041</td>\n",
       "      <td>-0.772376</td>\n",
       "      <td>-1.677692</td>\n",
       "      <td>-0.139936</td>\n",
       "      <td>-0.789802</td>\n",
       "      <td>-0.178191</td>\n",
       "      <td>1.321386</td>\n",
       "      <td>-0.979550</td>\n",
       "    </tr>\n",
       "    <tr>\n",
       "      <th>4659</th>\n",
       "      <td>0.064876</td>\n",
       "      <td>-0.040517</td>\n",
       "      <td>0.673367</td>\n",
       "      <td>-0.636847</td>\n",
       "      <td>-0.103349</td>\n",
       "      <td>1.186051</td>\n",
       "      <td>-0.583343</td>\n",
       "      <td>0.006985</td>\n",
       "      <td>-0.254491</td>\n",
       "    </tr>\n",
       "    <tr>\n",
       "      <th>7386</th>\n",
       "      <td>-0.981463</td>\n",
       "      <td>-0.176838</td>\n",
       "      <td>-0.772376</td>\n",
       "      <td>0.403998</td>\n",
       "      <td>-0.024161</td>\n",
       "      <td>-0.301517</td>\n",
       "      <td>-1.190589</td>\n",
       "      <td>-1.477797</td>\n",
       "      <td>0.833097</td>\n",
       "    </tr>\n",
       "  </tbody>\n",
       "</table>\n",
       "</div>"
      ],
      "text/plain": [
       "         Rooms  Distance  Bathroom       Car  Landsize  Lattitude  Longtitude  \\\n",
       "1061  0.064876  0.181004  0.673367  1.444843  0.007414  -1.507721   -0.030951   \n",
       "6482 -0.981463 -1.403726 -0.772376 -0.636847 -0.139936   0.001296   -0.415893   \n",
       "8395  0.064876 -0.688041 -0.772376 -1.677692 -0.139936  -0.789802   -0.178191   \n",
       "4659  0.064876 -0.040517  0.673367 -0.636847 -0.103349   1.186051   -0.583343   \n",
       "7386 -0.981463 -0.176838 -0.772376  0.403998 -0.024161  -0.301517   -1.190589   \n",
       "\n",
       "      Propertycount     Month  \n",
       "1061       0.713632 -0.254491  \n",
       "6482      -1.193220 -0.617021  \n",
       "8395       1.321386 -0.979550  \n",
       "4659       0.006985 -0.254491  \n",
       "7386      -1.477797  0.833097  "
      ]
     },
     "execution_count": 103,
     "metadata": {},
     "output_type": "execute_result"
    }
   ],
   "source": [
    "x_test.head()"
   ]
  },
  {
   "attachments": {},
   "cell_type": "markdown",
   "metadata": {},
   "source": [
    "### Linear Regression"
   ]
  },
  {
   "cell_type": "code",
   "execution_count": 105,
   "metadata": {},
   "outputs": [
    {
     "name": "stdout",
     "output_type": "stream",
     "text": [
      "R2 0.4805994196314075\n"
     ]
    },
    {
     "data": {
      "image/png": "[encoded data removed]",
      "text/plain": [
       "<Figure size 432x288 with 1 Axes>"
      ]
     },
     "metadata": {
      "needs_background": "light"
     },
     "output_type": "display_data"
    }
   ],
   "source": [
    "from sklearn.linear_model import LinearRegression\n",
    "\n",
    "model_lr = LinearRegression(normalize=True)\n",
    "model_lr.fit(x_train, y_train)\n",
    "\n",
    "pred_lr = model_lr.predict(x_test)\n",
    "# mean_sqr_lr = mean_squared_error(y_test, pred_lr)\n",
    "r2_lr = r2_score(y_test, pred_lr)\n",
    "print(\"R2\", r2_lr)\n",
    "\n",
    "coef_lr = pd.Series(model_lr.coef_, X.columns).sort_values()\n",
    "coef_lr.plot(kind='bar', title=\"Model Coefficients\")\n",
    "plt.show()"
   ]
  },
  {
   "cell_type": "code",
   "execution_count": 106,
   "metadata": {},
   "outputs": [
    {
     "data": {
      "image/png": "[encoded data removed]",
      "text/plain": [
       "<Figure size 432x288 with 1 Axes>"
      ]
     },
     "metadata": {
      "needs_background": "light"
     },
     "output_type": "display_data"
    }
   ],
   "source": [
    "df_pred_lr = pd.concat([y_test.reset_index(drop=True), \n",
    "            pd.Series(pred_lr, name=\"Predicao\")], \n",
    "            axis=1)\n",
    "\n",
    "sns.regplot(x=\"Price\", y=\"Predicao\", data=df_pred_lr)\n",
    "plt.show()"
   ]
  },
  {
   "attachments": {},
   "cell_type": "markdown",
   "metadata": {},
   "source": [
    "### Random Forest Regressor"
   ]
  },
  {
   "cell_type": "code",
   "execution_count": 108,
   "metadata": {},
   "outputs": [
    {
     "name": "stdout",
     "output_type": "stream",
     "text": [
      "R2 0.795345971438898\n"
     ]
    },
    {
     "data": {
      "image/png": "[encoded data removed]",
      "text/plain": [
       "<Figure size 432x288 with 1 Axes>"
      ]
     },
     "metadata": {
      "needs_background": "light"
     },
     "output_type": "display_data"
    }
   ],
   "source": [
    "from sklearn.ensemble import RandomForestRegressor\n",
    "\n",
    "model_rfr = RandomForestRegressor()\n",
    "model_rfr.fit(x_train, y_train)\n",
    "\n",
    "pred_rfr = model_rfr.predict(x_test)\n",
    "# mean_sqr_rfr = mean_squared_error(y_test, pred_rfr)\n",
    "r2_rfr = r2_score(y_test, pred_rfr)\n",
    "print(\"R2\", r2_rfr)\n",
    "\n",
    "coef_rfr = pd.Series(model_rfr.feature_importances_, X.columns).sort_values(ascending=False)\n",
    "coef_rfr.plot(kind='bar', title=\"Feature Importance\")\n",
    "plt.show()"
   ]
  },
  {
   "cell_type": "code",
   "execution_count": 109,
   "metadata": {},
   "outputs": [
    {
     "data": {
      "image/png": "[encoded data removed]",
      "text/plain": [
       "<Figure size 432x288 with 1 Axes>"
      ]
     },
     "metadata": {
      "needs_background": "light"
     },
     "output_type": "display_data"
    }
   ],
   "source": [
    "df_pred_rfr = pd.concat([y_test.reset_index(drop=True), \n",
    "            pd.Series(pred_rfr, name=\"Predicao\")], \n",
    "            axis=1)\n",
    "\n",
    "sns.regplot(x=\"Price\", y=\"Predicao\", data=df_pred_rfr)\n",
    "plt.show()"
   ]
  },
  {
   "cell_type": "code",
   "execution_count": null,
   "metadata": {},
   "outputs": [],
   "source": []
  }
 ],
 "metadata": {
  "kernelspec": {
   "display_name": "Python 3",
   "language": "python",
   "name": "python3"
  },
  "language_info": {
   "codemirror_mode": {
    "name": "ipython",
    "version": 3
   },
   "file_extension": ".py",
   "mimetype": "text/x-python",
   "name": "python",
   "nbconvert_exporter": "python",
   "pygments_lexer": "ipython3",
   "version": "3.6.8"
  },
  "orig_nbformat": 4
 },
 "nbformat": 4,
 "nbformat_minor": 2
}
